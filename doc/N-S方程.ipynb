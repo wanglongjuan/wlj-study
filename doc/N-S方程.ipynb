{
 "cells": [
  {
   "cell_type": "markdown",
   "metadata": {},
   "source": [
    "### N-S 方程关于流体"
   ]
  },
  {
   "cell_type": "markdown",
   "metadata": {},
   "source": [
    "### 1.1 欧拉坐标和拉格郎日坐标"
   ]
  },
  {
   "cell_type": "markdown",
   "metadata": {},
   "source": [
    "让我们开始用欧拉坐标和拉格郎日坐标. 欧拉坐标 $(x, t)$ 是物理空间加时间.\n",
    "关于流体的欧拉描述是使用作为空间位置 $x$ 和 时间 $t$ 的函数的量来描述流量.\n",
    "流速为 $u(x, t)$. 这个可视化可以通过坐在河岸上, 看着水流通过一个固定的位置.\n",
    "控制流的方程将主要写在欧拉坐标中求解."
   ]
  },
  {
   "cell_type": "markdown",
   "metadata": {},
   "source": [
    "相反, 拉格郎日描绘的是坐在船上并顺着船漂流. 为了使其精确, 让我们引入参考坐标\n",
    "$\\xi$, 其可被认为是(非常精细的)均匀网格. 每个单元的流体包裹,\n",
    "其是由合理的微观颗粒(分子和原子)组成的非常少量的流体. 流体包裹的尺寸足够大,\n",
    "使得平均量保持有意义. 同时, 与所考虑的流量的尺寸相比较小, 使得其可以被认为是点."
   ]
  },
  {
   "cell_type": "markdown",
   "metadata": {},
   "source": [
    "我们假设流量从参考配置开始并映射到其变形配置, 数学它被描述为映射, 称为流谱,\n",
    "从欧拉参考坐标\n",
    "\n",
    "$$\n",
    "X(\\dot, t) : R^n \\to R^n, and \\quad X(\\dot, o) = 恒等映射\n",
    "$$\n",
    "\n",
    "即 $x = X(\\xi, t)$ 是时间 $t$ 的空间位置 $\\xi$ 包裹在欧拉坐标中,\n",
    "这种映射是一对一的, 并假设是光滑的(至少是连续且可微的)."
   ]
  },
  {
   "cell_type": "markdown",
   "metadata": {},
   "source": [
    "拉格郎日坐标是 $(X(\\xi, t), t)$ 一个包裹, 标记为 $\\xi$, 可以被认为是一个小船,\n",
    "$X(\\xi, t)$ 是在时间 $t$ 沿河漂流的船的位置.\n",
    "描述坐在船中的流量等价于使用移动坐标 $(X(\\xi, t), t)$."
   ]
  },
  {
   "cell_type": "markdown",
   "metadata": {},
   "source": [
    "虽然欧拉坐标中的计算更容易, 但物理定律更容易在参考坐标中描述. 举个例子, 由于\n",
    "$X((\\xi, t), t)$ 表示包裹在空间中的位置, 其相对于 $t$ 的导数将表示包裹 $\\xi$\n",
    "的速度, 我们表示 \n",
    "\n",
    "$$\n",
    "\\tilde{u} (\\xi, t) = \\frac{\\partial x}{\\partial t} (\\xi, t)\n",
    "$$"
   ]
  },
  {
   "cell_type": "markdown",
   "metadata": {},
   "source": [
    "我们现在推进函数到欧拉坐标. 映射 $X$ 是一对一的. 所以我们可以写\n",
    "\n",
    "$$\n",
    "\\xi = (\\xi, t) := X^{-1} (x, t)\n",
    "$$\n",
    "\n",
    "其中 $X^{-1} (\\dot, t): R^n \\to R^n$ 是从欧拉坐标到参考坐标的映射. 因此\n",
    "$$\n",
    "u(x, t) = \\tilde{u} (\\xi (x, t), t) 或者 \\tilde{u} (\\xi, t) = u(\\xi(x, t), t)\n",
    "$$\n",
    "忽略滥用符号, $~$ 通常跳过, 等等. 我们使用 $u(x, t)$ 和 $u(\\xi, t)$ 来表示不同坐标中的速度. 相同的约定适用于大多数函数."
   ]
  },
  {
   "cell_type": "markdown",
   "metadata": {},
   "source": [
    "另一方面, 给出一个光滑的向量 $u(x, t)$ 在欧拉坐标, 我们可以解ODE方程组\n",
    "$$\n",
    "\\frac{d}{dt}X(\\xi, t) = u(X(\\xi, t), t), t>0, X(\\xi, 0) = \\xi\n",
    "$$\n",
    "找到 $X(\\xi, t)$ 每个流体微团 $\\xi$ 在任何时间 $t$ 的位置. 因此, 满足对 $u$ 求导的方程并求解欧拉坐标中的 $u$."
   ]
  },
  {
   "cell_type": "markdown",
   "metadata": {},
   "source": [
    "为了保存符号, 我们仍利用 $x$ 用于映射 $X$ (避免键入大写字母, 并假设函数 $f(x)$ 比 $F(x)$ 更好). 当使用导数时这个可能导致混乱, 在欧拉坐标中, $x$ 和 $t$ 是独立变量, 而在拉格郎日坐标 $(x(\\xi, t), t) = (X(\\xi, t), t)$. 空间变量是关于 $t$ 的函数. 为了避免这些困惑, 让我们对其从欧拉坐标到拉格郎日坐标进行改变, 并改变量为 \n",
    "$$\n",
    "x = x(\\xi, \\tau), t= \\tau\n",
    "$$"
   ]
  },
  {
   "cell_type": "markdown",
   "metadata": {},
   "source": [
    "其中, 我们使用不同的变量 $\\tau$ 来表明在拉格郎日坐标 $(x(\\xi, \\tau), \\tau)$ 中, 空间和时间变量是独立的. $x$ 与 $t$ 是无关的(在欧拉坐标中) 但是与 $\\tau$ 相关的."
   ]
  },
  {
   "cell_type": "markdown",
   "metadata": {},
   "source": [
    "我们总结不同的坐标如下:\n",
    "\n",
    "1. 欧拉坐标$(x, t)$\n",
    "2. 拉格郎日坐标 $(x(\\xi, t), t) = x((\\xi, \\tau), \\tau)$\n",
    "3. 参考坐标 (例如 $\\tau = 0$ 在拉格郎日坐标中) $\\xi$"
   ]
  },
  {
   "cell_type": "markdown",
   "metadata": {},
   "source": [
    "### 物质导数"
   ]
  },
  {
   "cell_type": "markdown",
   "metadata": {},
   "source": [
    "$f(x, t)$ 是欧拉坐标中的函数, 坐标 $(x,t)$ 中的偏导数在规范意义下理解. 为了描述物理定律, 我们需要改变拉格郎日坐标 $(x(\\xi, \\tau), \\tau)$. 通过链式规则, 我们有\n",
    "\n",
    "$$\n",
    "\\frac{\\partial}{\\partial \\tau} (f(x(\\xi, \\tau)), t(\\tau)) = \\nabla f \\frac{\\partial x}{\\partial \\tau} + f_t = u \\dot \\nabla f + f_t\n",
    "$$"
   ]
  },
  {
   "cell_type": "markdown",
   "metadata": {},
   "source": [
    "关于变量 $\\tau$ 的导数, 即\n",
    "\n",
    "$$\n",
    "D_\\tau := \\frac{\\partial }{\\partial \\tau} = (\\partial_t + u \\dot \\nabla)\n",
    "$$\n",
    "\n",
    "被称作是物质导数. 这里的物质指的是 流体微团(拉格郎日坐标也称为物质坐标)"
   ]
  },
  {
   "cell_type": "markdown",
   "metadata": {},
   "source": [
    " 物理上, 这意味着拉格郎日坐标中 $f$ (时间) 的变化量由两部分组成:时间变化和空间变化. 时间变化 $f_t$ 是在欧拉坐标中观察(静止坐标并且跟踪 $f$ 的时间变化率), 另一部分是由于移动坐标的空间变化:我们在不同的时间不同的位置."
   ]
  },
  {
   "cell_type": "markdown",
   "metadata": {},
   "source": [
    "在文章中通常表示为 $D_t$ 或 $\\frac{d}{dt}$. 我们使用 $D_\\tau$ 来强调所有物理定律在拉格郎日坐标中描述, 举个例子, 因为 $u$ 是速度, 所以 $D_\\tau u = u_t + (u \\dot \\nabla) u$ 是流体微团 $\\xi$ 的加速度."
   ]
  },
  {
   "cell_type": "markdown",
   "metadata": {},
   "source": [
    "让我们取参考区域中的任意域 $\\Omega_0$,  并且表示为 $\\Omega_\\tau := X(\\Omega_0, \\tau) = \\{x : x= x(\\xi, \\tau), \\xi \\in \\Omega_0\\}$ 作为 $\\Omega$ 在时间 $\\tau$ 上的变形域."
   ]
  },
  {
   "cell_type": "markdown",
   "metadata": {},
   "source": [
    "我们现在得到欧拉坐标中积分 $\\int_{\\Omega_\\tau f(x, t) \\mathrm dx}$ 的物质导数的公式. 除了 $f$ 的导数, 我们必须考虑\n",
    "  相对于 $\\tau$ 的区域 $\\Omega_\\tau$ 的变化."
   ]
  },
  {
   "cell_type": "markdown",
   "metadata": {},
   "source": [
    "**引理1.1** 令 $J(\\xi, t)=(\\frac{dx}{d \\xi})=(\\frac{\\partial x_i}{\\partial \\xi_j}), ij=1,n$ 是关于流体映射的雅克比矩阵, 又令 $|J| = det J$ 是雅克比矩阵. 因此, $\\partial_\\tau |J| = |J| div u(3)$"
   ]
  },
  {
   "cell_type": "markdown",
   "metadata": {},
   "source": [
    "**证明** 通过改变变量,$\\Omega$ 的体积是\n",
    "\n",
    "$$|\\Omega_\\tau| = \\int_{\\Omega_0} |J| \\mathrm d\\xi$$\n",
    "\n",
    "然而我们计算\n",
    "\n",
    "$$\\partial_\\tau |\\Omega_\\tau| = \\lim_{\\Delta} \\frac{|\\Omega_{\\tau+\\Delta \\tau}|-|\\Omega_\\tau|}{\\Delta \\tau}$$\n",
    "\n",
    "关键的观察结果是体积的变化等于边界的面积\n",
    "\n",
    "$$|\\Omega_{\\tau+\\Delta \\tau}|- |\\Omega_\\tau| = \\int_{\\partial \\Omega_\\tau} (\\Delta \\tau) u \\dot n \\mathrm ds$$\n",
    "\n",
    "因为边界粒子以 $\\Delta t$ 时间步长以速度 $u n$ 在法线方向上移动. \n",
    "\n",
    "我们有\n",
    "\n",
    "$$\\int_{\\Omega_0} \\partial_\\tau |J| \\mathrm d \\xi = D_\\tau |\\Omega_\\tau| = \\int_{\\Omega_\\tau} div u \\mathrm dx = \\int_{\\Omega_0} div u |J|\\mathrm d\\xi$$"
   ]
  },
  {
   "cell_type": "markdown",
   "metadata": {},
   "source": [
    "**练习 1.2** 令 $A(t)$ 是可逆的并且关于 $t$ 可微, 证明 \n",
    "\n",
    "$$\\frac{d}{dt} det A(t) = det A tr(A^{-1}\\frac{d}{dt} A(t))$$\n",
    "\n",
    "从上式导出(3)"
   ]
  },
  {
   "cell_type": "markdown",
   "metadata": {},
   "source": [
    "**定理 3** (传输定理) 对于光滑函数 $f(x, t)$, 我们有\n",
    "(5)   \n",
    "\n",
    "$$\n",
    "\\begin{align}\n",
    "\\frac{d}{d\\tau}(\\int_{\\Omega_\\tau} f(x, \\tau) \\mathrm dx) \n",
    "&=\\frac{d}{dt}(\\int_{\\Omega_0} f(x(\\xi,\\tau), \\tau)|J| \\mathrm d \\xi)\\\\\n",
    "& =\\int_{\\Omega_0} D_\\tau f(x(\\xi, \\tau), \\tau) |J| \\mathrm d \\xi + \\int_{\\Omega_0}f(x(\\xi, \\tau), \\tau) \\partial |J| \\mathrm d\\xi\\\\ &=\\int_{\\Omega_0} (f_t + u \\nabla f + f div u)|J| \\mathrm d \\xi \\\\\n",
    "&= \\int_{\\Omega_\\tau} (f_t + \\nabla (fu))\\mathrm dx \n",
    "\\end{align}\n",
    "$$\n",
    "  \n",
    "  \n"
   ]
  },
  {
   "cell_type": "markdown",
   "metadata": {
    "collapsed": true
   },
   "source": [
    "### 1.3 守恒率"
   ]
  },
  {
   "cell_type": "markdown",
   "metadata": {},
   "source": [
    "我们现在导出流体的基本方程. 令 $(\\, u)$ 分别表示质量密度和流体的速度. 方程写在欧拉坐标中但是在拉格郎日坐标中求导更容易. 我们假设所有的函数都足够平滑, 使得微分和积分是可互换的."
   ]
  },
  {
   "cell_type": "markdown",
   "metadata": {},
   "source": [
    "#### 1.3.1(质量守恒定律)"
   ]
  },
  {
   "cell_type": "markdown",
   "metadata": {},
   "source": [
    "流体微团将随着流体流动而移动, 其形状可以由于流体的变形而变化, 而流体微团的质量保持恒定. 这被认为是经典力学的基本原理."
   ]
  },
  {
   "cell_type": "markdown",
   "metadata": {},
   "source": [
    "让我们取 参考坐标中的任意域 $\\Omega_0$ 并参考其在事时间 $\\tau$ 上的变形域 $\\Omega_\\tau$. 在区域 $\\Omega_\\tau$ 上的流体的质量表达式为\n",
    "\n",
    "$$\n",
    "mass = \\int_{\\Omega_\\tau} \\rho(x, \\tau) \\mathrm dx\n",
    "$$\n",
    "\n",
    "质量守恒意味着:\n",
    "\n",
    "$$\n",
    "\\frac{\\mathrm s}{\\mathrm d \\tau} (mass) = 0 \\to \\int_{\\Omega_\\tau} D_\\tau \\rho + \\rho div u \\mathrm dx = \\int_{\\Omega_\\tau} \\rho_t + \\nabla (\\rho u) \\mathrm dx =0 \n",
    "$$ "
   ]
  },
  {
   "cell_type": "markdown",
   "metadata": {
    "collapsed": true
   },
   "source": [
    "因为区域是任意的, 我们得到的质量守恒方程(是连续的)\n",
    "\n",
    "$$\n",
    "\\rho_t + \\nabla \\dot (\\rho u) = 0 \\quad (6)\n",
    "$$\n",
    "\n",
    "为了进一步说明欧拉坐标和拉格郎日坐标的差异, 我们在欧拉坐标中导出 (6). 现在在欧拉坐标中取任意的区域 $\\Omega$, 并且不随时间改变. 我们认为在 $\\Omega$ 在质量上发生改变<我们考虑质量的变换, 以 $\\Omega$ 表示>\n",
    "\n",
    "$$\n",
    "\\frac{\\mathrm d}{\\mathrm dt} \\int_\\Omega \\rho(x, t) \\mathrm dx = \\int_\\Omega \\partial_t \\rho(x, t) \\mathrm dx\n",
    "$$ \n",
    "\n",
    "质量的改变是由于一些流体微团流进或流出 $\\Omega$ 的关系, 其特征在于通量的表积分\n",
    "\n",
    "$$\n",
    "- \\int_{\\partial \\Omega} \\rho u\\cdot n \\mathrm dS\n",
    "$$\n",
    "\n",
    "选择负号是因为 $n$ 是向外的法线方向, 并且 $u\\dot n >0$ 意味着质量损失.\n",
    "质量守恒定律可以被写为\n",
    "\n",
    "$$\n",
    "\\int_\\Omega \\partial_t \\rho(x, t) \\mathrm dx = - \\int_{\\partial \\Omega} \\rho u\\dot n \\mathrm dS\n",
    "$$\n",
    "\n",
    "应用散度定理, 让 $\\Omega$ 收缩到一个点, 再次得到方程(6)\n",
    "\n"
   ]
  },
  {
   "cell_type": "markdown",
   "metadata": {
    "collapsed": true
   },
   "source": [
    "#### 1.3.2 不可压缩流体\n"
   ]
  },
  {
   "cell_type": "markdown",
   "metadata": {
    "collapsed": true
   },
   "source": [
    "如果 $D_\\tau \\rho = 0$ 就称流体是不可压缩的. 即流体微团的质量密度在移动期间不改变.\n",
    "\n",
    "对于不可压缩流体, 连续方程可以写为\n",
    "\n",
    "$$\n",
    "div u = 0 \n",
    "$$\n",
    "\n",
    "在物理上, 或从数学上 (3), 流体微团的体积不变, 由连续方程 $D_\\tau \\rho + \\rho div u = 0$\n",
    "\n",
    "我们有 $D_\\tau \\rho = 0 \\iff div u =0$\n",
    "\n",
    "通过雅可比公式 (3), 我们总结为不可压缩流体, 雅可比是常数, 因为 $|J(0)|=1$, 该常数为 $1$. 因此, $\\Omega_\\tau $ 的体积不变"
   ]
  },
  {
   "cell_type": "markdown",
   "metadata": {
    "collapsed": true
   },
   "source": [
    "对于不可压缩流体, 因为 $div u = 0$,因此我们有\n",
    "\n",
    "$$\n",
    "\\frac{\\mathrm d}{\\mathrm d\\tau} (\\int_{\\Omega_\\tau} f(x, \\tau)\\mathrm dx) = \\int_{\\Omega_\\tau} D_\\tau f(x, \\tau) \\mathrm dx = \\int_{\\Omega_\\tau} (f_t + u \\cdot \\nabla f)\\mathrm dx\n",
    "$$"
   ]
  },
  {
   "cell_type": "markdown",
   "metadata": {
    "collapsed": true
   },
   "source": [
    "#### 1.3.3动量守恒"
   ]
  },
  {
   "cell_type": "markdown",
   "metadata": {
    "collapsed": true
   },
   "source": [
    "动量 \n",
    "\n",
    "$$\n",
    "momentum = \\int_{\\Omega_\\tau} \\rho u \\mathrm dx\n",
    "$$\n",
    "\n",
    "由牛顿第二定律, 我们有\n",
    "\n",
    "$$\n",
    "\\frac{\\mathrm d}{\\mathrm d\\tau} (momentum) = force(\\Omega_\\tau)\n",
    "$$\n",
    "\n",
    "其中力是作用在域 $\\Omega_\\tau$ 上的力."
   ]
  },
  {
   "cell_type": "markdown",
   "metadata": {
    "collapsed": true
   },
   "source": [
    "Th 1.4 (传输定理2) 对于一个光滑函数 $f(x, t)$, 我们有\n",
    "\n",
    "$$\n",
    "\\begin{align}\n",
    "\\frac{\\mathrm d}{\\mathrm d\\tau} (\\int_{\\Omega_\\tau} \\rho f(x, t) \\mathrm dx) &= \\int_{\\Omega_\\tau} \\rho (D_\\rho f) \\mathrm dx + \\int_{\\Omega_\\tau} \\rho f \\cdot div u \\mathrm dx\\\\\n",
    "& = \\int_{\\Omega_\\tau} \\rho D_\\tau f \\mathrm dx +  \\int_{\\Omega_\\tau} f D_\\tau \\rho  \\mathrm dx+ \\int_{\\Omega_\\tau} \\rho f\\cdot div u \\mathrm dx\\\\\n",
    "&=\\int_{\\Omega_\\tau} \\rho D_\\tau f \\mathrm dx\\\\\n",
    "\\end{align}\n",
    "$$ "
   ]
  },
  {
   "cell_type": "markdown",
   "metadata": {
    "collapsed": true
   },
   "source": [
    "最后两项取消是由于质量守恒定律(6)\n",
    "\n",
    "如果我们将 $\\rho \\mathrm dx$ 作为一个新的度量, 这是(8) 的泛化. 形式是积分和物质导数的交换. \n",
    "\n",
    "应用定理 1.4 在动量, 我们有\n",
    "\n",
    "$$\n",
    "\\frac{\\mathrm d}{\\mathrm d\\tau} (momentum) = \\int_{\\Omega_\\tau} \\rho (u_t + u \\nabla u )\\mathrm dx\n",
    "$$\n",
    "\n",
    "$u_t + u \\nabla u$ 是加速度. 到动量方程是牛顿第二定律 $F = ma$ 的积分形式. 体积力和面积力. 例如, 体积力是重力或磁力, 这种可被写为 $\\int_{\\Omega_\\tau} f \\mathrm dx $. 力可以进一步分解为压力和张力. 边界上的压力给出 $\\int_{\\Omega_\\tau} p n \\mathrm dS = - \\int_{\\Omega_\\tau} \\nabla p \\mathrm dx$. 这里的负号是由于使用了向外的法向量, 压力的方向始终指法线方向. 另一个面积力来自于物质变形 $\\int_{\\Omega_\\tau} \\sigma n \\mathrm dS$, 其中, $\\sigma (x, t)$ 是一个矩阵函数, 并且 $\\sigma n$ 不仅包含法线方向的力, 还包含切线方向的力, 力可以一致写为 $-pI+\\sigma$.如果只有压力存在, 我们关于流体用流动的思想."
   ]
  },
  {
   "cell_type": "markdown",
   "metadata": {
    "collapsed": true
   },
   "source": [
    "动量方程变为\n",
    "\n",
    "$$\n",
    "\\rho D_\\tau u = f - \\nabla p + div \\sigma (u) = f+div(-pI+\\sigma(u)) \n",
    "$$\n",
    "\n",
    "我们现在关注张力的公式. 我们假设:\n",
    "\n",
    "(1) $\\sigma = \\sigma(\\nabla u)$ 在 $\\nabla u$ 是线性的, 称为牛顿流体, 如果不是, 就称为非牛顿流体;\n",
    "(2) 它相对于欧拉坐标中的旋转R是不变的, 也就是说\n",
    "\n",
    "$$\n",
    "\\sigma(R \\nabla u R^{-1}) = R \\sigma (\\nabla u) R^{-1}\n",
    "$$\n",
    "\n",
    "(3) 它是对称的$\\sigma = \\sigma^{T}$\n",
    "\n",
    "用于满足上式假设粘性 $\\sigma$ 的常用公式是\n",
    "\n",
    "$$\n",
    "\\sigma = \\lambda (div u)I + 2 \\mu \\nabla^{(s)} u,\n",
    "$$\n",
    "\n",
    "其中 $\\nabla^{(s)} u = \\frac{\\nabla u + (\\nabla u)^{T}}{2}$, $\\lambda, \\mu$ 是两个参数, $\\nabla^{(s)} u$ 称为对称梯度或变形张量"
   ]
  },
  {
   "cell_type": "markdown",
   "metadata": {
    "collapsed": true
   },
   "source": [
    "**Lemma1.5** 对于由 (9) 给出的 $\\sigma$, 我们有\n",
    "\n",
    "$$\n",
    "div \\sigma = \\mu \\Delta u + (\\lambda + \\mu )\\nabla (div u) \n",
    "$$"
   ]
  },
  {
   "cell_type": "markdown",
   "metadata": {
    "collapsed": true
   },
   "source": [
    "证明:\n",
    "\n",
    "$$\n",
    "div \\sigma = div (\\sigma_1,\\sigma_2,\\cdots,\\sigma_n)\n",
    "$$\n",
    "\n",
    "其中 $\\sigma_k = (\\sigma_{1k},\\sigma_{2k},\\cdots,\\sigma_{nk})^T$\n",
    "\n",
    "让我们计算\n",
    "\n",
    "$$\n",
    "(div 2 \\nabla^{(s)} u )_k = \\sum_{i=1}^n \\partial_i (\\partial_i u_k + \\partial_k u_i) = \\Delta u_k + \\partial_k (div u)\n",
    "$$\n",
    "\n",
    "标记 $div (div u )I = \\nabla (div u)$, 然后得到所需要的结果."
   ]
  },
  {
   "cell_type": "markdown",
   "metadata": {
    "collapsed": true
   },
   "source": [
    "不可压缩流体的张量可以化简为拉普拉斯算子, 然后不可压缩流体的动量方程被简化为:\n",
    "\n",
    "$$\n",
    "(10) \\quad\\quad -\\mu \\Delta u + \\rho(\\partial_t u + u\\cdot \\nabla u) + \\nabla p = f\n",
    "$$"
   ]
  },
  {
   "cell_type": "markdown",
   "metadata": {
    "collapsed": true
   },
   "source": [
    "#### 1.3.4 能量守恒"
   ]
  },
  {
   "cell_type": "markdown",
   "metadata": {
    "collapsed": true
   },
   "source": [
    "现在我们有两类方程: 质量守恒和动量守恒, 对于 $(\\rho, u, p)$. 为了计算方程组, 我们需要新一类方程: 能量守恒."
   ]
  },
  {
   "cell_type": "markdown",
   "metadata": {
    "collapsed": true
   },
   "source": [
    "总能量包括动能和内能. 动能是:\n",
    "\n",
    "$$\n",
    "E_{kinetic} = \\frac{1}{2} \\int \\rho |u|^2 \\mathrm dx\n",
    "$$\n",
    "\n",
    "内能内部更复杂, 并且详细解释需要热力学的知识"
   ]
  },
  {
   "cell_type": "markdown",
   "metadata": {
    "collapsed": true
   },
   "source": [
    "为了简化讨论, 我们将仅限于不可压缩流体, 下面的练习将显示对于具有恒定内能的不可压缩流体, 能量平衡有动量方程表示, 因此不会引入新的方程. 换句话说,对于不可压缩流体, 方程将有 $div u = 0$ 来完成."
   ]
  },
  {
   "cell_type": "markdown",
   "metadata": {
    "collapsed": true
   },
   "source": [
    "**Excise 1.6** 令 $e_{internal}$ 为内能的密度. 总能量的密度为 $e_{total} = e_{internal} + \\frac{|u|^2}{2}$, 流体 $\\Omega_\\tau$ 的能量变化应该是与体积力和表面力所做的工作相乘的距离相同. 因此, 工作的变化率为 $F(\\Omega_\\tau)$, 简化的能量的守恒公式为\n",
    "\n",
    "$$\n",
    "D_\\tau \\int_{\\Omega_\\tau} \\rho e_{total} \\mathrm dx = F(\\Omega_\\tau)\\cdot u\n",
    "$$\n",
    "对于具有恒定 $e$ 内部的不可压缩流体, 并显示它等于动量方程.\n",
    "对于可压缩流体, 我们需要从热力学第一定律导出的压力 $p$ 和 密度 $\\rho$ 之间的附加关系.一种重要的可压缩流体是等熵流."
   ]
  },
  {
   "cell_type": "markdown",
   "metadata": {
    "collapsed": true
   },
   "source": [
    "#### 1.4 N-S方程"
   ]
  },
  {
   "cell_type": "markdown",
   "metadata": {
    "collapsed": true
   },
   "source": [
    "对于不可压缩的, 粘性的以及牛顿流体, 我们得到N-S方程(加稳定项和初始条件)\n",
    "\n",
    "$$\n",
    "-\\mu \\Delta u + \\rho (u_t + (u \\cdot \\nabla) u) + \\nabla p = f\\\\\n",
    "\\rho_t + u \\cdot \\nabla \\rho = 0\\\\\n",
    "div u =0\n",
    "$$\n",
    "\n",
    "在本文中, 我们考虑恒定质量密度, 所以 N-S方程简化为\n",
    "\n",
    "$$\n",
    "(11) \\quad \\quad -\\mu \\Delta u + u_t + u \\cdot \\nabla u + \\nabla p = f\\\\\n",
    "div u =0\n",
    "$$\n",
    "\n",
    "注意, 在动量方程 (11) 中, 通过除以常数密度 $\\rho$ 来标准化粘度常数 $\\mu$, 压力.\n",
    "质量方程等价于不可压缩方程"
   ]
  },
  {
   "cell_type": "markdown",
   "metadata": {
    "collapsed": true
   },
   "source": [
    "现在让我们可考虑通过变换的无量纲比\n",
    "\n",
    "$$\n",
    "\\bar{u} = \\frac{u}{v}, \\bar{p} = \\frac{p}{v^2},\\bar{x} = \\frac{x}{t}, \\bar{t} = \\frac{t}{T}\n",
    "$$\n",
    "\n",
    "因此"
   ]
  },
  {
   "cell_type": "code",
   "execution_count": null,
   "metadata": {
    "collapsed": true
   },
   "outputs": [],
   "source": []
  },
  {
   "cell_type": "code",
   "execution_count": null,
   "metadata": {
    "collapsed": true
   },
   "outputs": [],
   "source": []
  },
  {
   "cell_type": "code",
   "execution_count": null,
   "metadata": {
    "collapsed": true
   },
   "outputs": [],
   "source": []
  },
  {
   "cell_type": "code",
   "execution_count": null,
   "metadata": {
    "collapsed": true
   },
   "outputs": [],
   "source": []
  },
  {
   "cell_type": "code",
   "execution_count": null,
   "metadata": {
    "collapsed": true
   },
   "outputs": [],
   "source": []
  },
  {
   "cell_type": "code",
   "execution_count": null,
   "metadata": {
    "collapsed": true
   },
   "outputs": [],
   "source": []
  },
  {
   "cell_type": "code",
   "execution_count": null,
   "metadata": {
    "collapsed": true
   },
   "outputs": [],
   "source": []
  },
  {
   "cell_type": "code",
   "execution_count": null,
   "metadata": {
    "collapsed": true
   },
   "outputs": [],
   "source": []
  },
  {
   "cell_type": "code",
   "execution_count": null,
   "metadata": {
    "collapsed": true
   },
   "outputs": [],
   "source": []
  },
  {
   "cell_type": "code",
   "execution_count": null,
   "metadata": {
    "collapsed": true
   },
   "outputs": [],
   "source": []
  },
  {
   "cell_type": "code",
   "execution_count": null,
   "metadata": {
    "collapsed": true
   },
   "outputs": [],
   "source": []
  },
  {
   "cell_type": "code",
   "execution_count": null,
   "metadata": {
    "collapsed": true
   },
   "outputs": [],
   "source": []
  },
  {
   "cell_type": "code",
   "execution_count": null,
   "metadata": {
    "collapsed": true
   },
   "outputs": [],
   "source": []
  },
  {
   "cell_type": "code",
   "execution_count": null,
   "metadata": {
    "collapsed": true
   },
   "outputs": [],
   "source": []
  },
  {
   "cell_type": "code",
   "execution_count": null,
   "metadata": {
    "collapsed": true
   },
   "outputs": [],
   "source": []
  },
  {
   "cell_type": "code",
   "execution_count": null,
   "metadata": {
    "collapsed": true
   },
   "outputs": [],
   "source": []
  },
  {
   "cell_type": "code",
   "execution_count": null,
   "metadata": {
    "collapsed": true
   },
   "outputs": [],
   "source": []
  },
  {
   "cell_type": "code",
   "execution_count": null,
   "metadata": {
    "collapsed": true
   },
   "outputs": [],
   "source": []
  },
  {
   "cell_type": "code",
   "execution_count": null,
   "metadata": {
    "collapsed": true
   },
   "outputs": [],
   "source": []
  },
  {
   "cell_type": "code",
   "execution_count": null,
   "metadata": {
    "collapsed": true
   },
   "outputs": [],
   "source": []
  },
  {
   "cell_type": "code",
   "execution_count": null,
   "metadata": {
    "collapsed": true
   },
   "outputs": [],
   "source": []
  },
  {
   "cell_type": "code",
   "execution_count": null,
   "metadata": {
    "collapsed": true
   },
   "outputs": [],
   "source": []
  },
  {
   "cell_type": "code",
   "execution_count": null,
   "metadata": {
    "collapsed": true
   },
   "outputs": [],
   "source": []
  },
  {
   "cell_type": "code",
   "execution_count": null,
   "metadata": {
    "collapsed": true
   },
   "outputs": [],
   "source": []
  },
  {
   "cell_type": "code",
   "execution_count": null,
   "metadata": {
    "collapsed": true
   },
   "outputs": [],
   "source": []
  },
  {
   "cell_type": "code",
   "execution_count": null,
   "metadata": {
    "collapsed": true
   },
   "outputs": [],
   "source": []
  },
  {
   "cell_type": "code",
   "execution_count": null,
   "metadata": {
    "collapsed": true
   },
   "outputs": [],
   "source": []
  },
  {
   "cell_type": "code",
   "execution_count": null,
   "metadata": {
    "collapsed": true
   },
   "outputs": [],
   "source": []
  },
  {
   "cell_type": "code",
   "execution_count": null,
   "metadata": {
    "collapsed": true
   },
   "outputs": [],
   "source": []
  },
  {
   "cell_type": "code",
   "execution_count": null,
   "metadata": {
    "collapsed": true
   },
   "outputs": [],
   "source": []
  },
  {
   "cell_type": "code",
   "execution_count": null,
   "metadata": {
    "collapsed": true
   },
   "outputs": [],
   "source": []
  },
  {
   "cell_type": "code",
   "execution_count": null,
   "metadata": {
    "collapsed": true
   },
   "outputs": [],
   "source": []
  },
  {
   "cell_type": "code",
   "execution_count": null,
   "metadata": {
    "collapsed": true
   },
   "outputs": [],
   "source": []
  },
  {
   "cell_type": "code",
   "execution_count": null,
   "metadata": {
    "collapsed": true
   },
   "outputs": [],
   "source": []
  },
  {
   "cell_type": "code",
   "execution_count": null,
   "metadata": {
    "collapsed": true
   },
   "outputs": [],
   "source": []
  }
 ],
 "metadata": {
  "kernelspec": {
   "display_name": "SageMath 7.5.1",
   "language": "",
   "name": "sagemath"
  },
  "language_info": {
   "codemirror_mode": {
    "name": "ipython",
    "version": 2
   },
   "file_extension": ".py",
   "mimetype": "text/x-python",
   "name": "python",
   "nbconvert_exporter": "python",
   "pygments_lexer": "ipython2",
   "version": "2.7.13"
  }
 },
 "nbformat": 4,
 "nbformat_minor": 0
}
