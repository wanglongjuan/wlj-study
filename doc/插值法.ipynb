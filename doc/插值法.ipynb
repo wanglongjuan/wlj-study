{
 "cells": [
  {
   "cell_type": "markdown",
   "metadata": {},
   "source": [
    "### 插值法"
   ]
  },
  {
   "cell_type": "markdown",
   "metadata": {},
   "source": [
    "### 1. 多项式插值"
   ]
  },
  {
   "cell_type": "markdown",
   "metadata": {},
   "source": [
    "设在区间 $[a, b]$ 上给定 $n+1$ 个点 $a \\leq x_0 < x_1 < \\quad < x_n \\leq b $ 上的函数值 $y_i = f(x_i)(i= 0, 1 , \\cdots,n )$, 求次数不超过 $n$ 的多项式.可以得到$n+1$元线性方程组, 得到系数矩阵为一个范德蒙德矩阵，故\n",
    "\n",
    "$$\n",
    "\\det \\bf{A} = (x_i - x_j) \\neq 0\n",
    "$$\n",
    "\n",
    "因此线性方程组的解存在且唯一"
   ]
  },
  {
   "cell_type": "markdown",
   "metadata": {},
   "source": [
    "**定理** 满足 $p(x_i) = y_i$ 的插值多项式是惟一的"
   ]
  },
  {
   "cell_type": "markdown",
   "metadata": {},
   "source": [
    "###  拉格郎日插值多项式"
   ]
  },
  {
   "cell_type": "markdown",
   "metadata": {},
   "source": [
    "$$\n",
    "L_n (x) = \\sum_{k=0}^n y_k \\frac{\\omega_{n+1}(x)}{(x-x_k)\\omega'_{n+1}(x_k)}\n",
    "$$\n",
    "其中\n",
    "$$\n",
    "\\begin{align}\n",
    "\\omega_{n+1}(x) &=(x-x_0)(x-x_1)\\cdots(x-x_n)\\\\\n",
    "\\omega'_{n+1}(x_k) &=(x_k-x_0)\\cdots(x_k-x_{k-1})(x_k-x_{k+1})\\cdots(x_k-x_n)\n",
    "\\end{align}\n",
    "$$"
   ]
  },
  {
   "cell_type": "markdown",
   "metadata": {},
   "source": [
    "当 $n=1$ 时，线性插值公式为:\n",
    "\n",
    "$$\n",
    "L_1(x)=y_k\\frac{x_{k+1}-x}{x_{k+1}-x_k}+y_{k+1}\\frac{x-x_k}{x_{k+1}-x_k}\n",
    "$$\n"
   ]
  },
  {
   "cell_type": "markdown",
   "metadata": {},
   "source": [
    "可以看出, $L_1$ 是由两个线性函数 $l_1(x)=\\frac{x_{k+1}-x}{x_{k+1}-x_k},\\quad l_2(x)=\\frac{x-x_k}{x_{k+1}-x_k}$ 组合得到的，这两个函数也可以称为线性插值基函数"
   ]
  },
  {
   "cell_type": "markdown",
   "metadata": {},
   "source": [
    "当 $n=2$ 时，线性插值公式为:\n",
    "\n",
    "$$\n",
    "L_2(x)=y_{k-1}\\frac{(x-x_k)(x-x_{k+1})}{(x_{k-1}-x_k)(x_{k-1}-x_{k+1})}+y_k\\frac{(x-x_{k-1})(x-x_{k+1})}{(x_{k}-x_{k-1})(x_{k}-x_{k+1})}+y_{k+1}\\frac{(x-x_k)(x-x_{k_1})}{(x_{k+1}-x_{k-1})(x_{k+1}-x_{k})}\n",
    "$$"
   ]
  },
  {
   "cell_type": "markdown",
   "metadata": {},
   "source": [
    "###  均差"
   ]
  },
  {
   "cell_type": "markdown",
   "metadata": {},
   "source": [
    "1.一阶均差: \n",
    "\n",
    "$\n",
    "f[x_0, x_k]=\\frac{f(x_k)-f(x_0)}{x_k-x_0}\n",
    "$\n",
    "为函数$f(x)$关于点$x_0,x_k$ 的一阶均差"
   ]
  },
  {
   "cell_type": "markdown",
   "metadata": {},
   "source": [
    "2.二阶均差:\n",
    "\n",
    "$\n",
    "f[x_0, x_k]=\\frac{f[x_0,x_k]-f[x_0,x_1]}{x_k-x_0}\n",
    "$"
   ]
  },
  {
   "cell_type": "markdown",
   "metadata": {},
   "source": [
    "3.$k$ 阶均差:\n",
    "\n",
    "$\n",
    "f[x_0,\\cdots, x_k]=\\frac{f[x_0, \\cdots,x_{k-2},x_k]-f[x_0,\\cdots, x_{k-1}]}{x_k-x_{k-1}}\n",
    "$"
   ]
  },
  {
   "cell_type": "markdown",
   "metadata": {},
   "source": [
    "### 牛顿插值多项式"
   ]
  },
  {
   "cell_type": "markdown",
   "metadata": {},
   "source": [
    "1.一次插值多项式可以表示为:\n",
    "\n",
    "$\n",
    "P_1(x) = P_0(x) + f[x_0, x_1](x - x_0)=f(x_0) + f[x_0, x_1](x - x_0)\n",
    "$"
   ]
  },
  {
   "cell_type": "markdown",
   "metadata": {},
   "source": [
    "2.二次插值多项式可以表示为：\n",
    "\n",
    "$\n",
    "P_2(x) = P_1(x) + f[x_0,x_1, x_2](x-x_0)(x-x_1)=f(x_0) + f[x_0, x_1](x - x_0)+ f[x_0,x_1, x_2](x-x_0)(x-x_1)\n",
    "$"
   ]
  },
  {
   "cell_type": "markdown",
   "metadata": {},
   "source": [
    "3.代入依次有：\n",
    "\n",
    "$\n",
    "P_n(x) = f(x_0) + f[x_0, x_1](x - x_0)+ f[x_0,x_1, x_2](x-x_0)(x-x_1)+\\cdots+f[x_0, x_1, \\cdots, x_n](x-x_0)(x-x_1)\\cdots(x-x_{n-1})\n",
    "$"
   ]
  },
  {
   "cell_type": "markdown",
   "metadata": {},
   "source": [
    "### 差分形式的牛顿插值多项式"
   ]
  },
  {
   "cell_type": "markdown",
   "metadata": {},
   "source": [
    "令 $x = x_0 + th$, 则有牛顿前差公式:\n",
    "\n",
    "$\n",
    "P_n(x_0+th)= f_0 + t\\Delta f_0 + \\frac{t(t-1)}{2！}\\Delta ^2 f_0+\\cdots + \\frac{t(t-1)\\cdots(t-n+1)}{n!}\\Delta^n f_0\n",
    "$\n",
    "\n",
    "余项为:\n",
    "\n",
    "$R_n(x) =  \\frac{t(t-1)\\cdots(t-n)}{{n+1}!}h^{n+1}f^{(n+1)}(\\xi),\\xi \\in(x_0, x_n)\n",
    "$"
   ]
  },
  {
   "cell_type": "markdown",
   "metadata": {},
   "source": [
    "### 均差与差分的关系"
   ]
  },
  {
   "cell_type": "markdown",
   "metadata": {},
   "source": [
    "$\n",
    "f[x_k, x_{k+1}] = \\frac{f_{k+1}-f_k}{x_{k+1}-x_k}= \\frac{\\Delta f_k}{h}\n",
    "$\n",
    "\n",
    "一般的有\n",
    "\n",
    "$\n",
    "f[x_k, x_{k+1}, \\cdots, x_{k+m}] = \\frac{1}{m!} \\frac{1}{h^m} \\Delta^m f_k, m=1,2,\\cdots, n\n",
    "$"
   ]
  },
  {
   "cell_type": "markdown",
   "metadata": {},
   "source": [
    "### 均差与导数的关系"
   ]
  },
  {
   "cell_type": "markdown",
   "metadata": {},
   "source": [
    "$\n",
    "\\Delta^n f_k = h^nf^{(n)}(\\xi) ,\\quad \\xi \\in(x_k, x_{k+n})\n",
    "$"
   ]
  },
  {
   "cell_type": "markdown",
   "metadata": {},
   "source": [
    "### 泰勒插值（就是牛顿插值的极限形式）"
   ]
  },
  {
   "cell_type": "markdown",
   "metadata": {},
   "source": [
    "$\n",
    "P_n(x) = f(x_0) + f'(x)(x - x_0)+ \\frac{1}{2!}f''(x)(x-x_0)(x-x_1)+\\cdots+\\frac{1}{n!}f(x)(x-x_0)(x-x_1)\\cdots(x-x_{n-1})\n",
    "$\n",
    "\n",
    "余项为 \n",
    "\n",
    "$\n",
    "R_n(x) = \\frac{f^{(n+1)(\\xi)}}{(n+1)!}(x-x_0)^{n+1}, \\quad \\xi \\in (a,b)\n",
    "$"
   ]
  },
  {
   "cell_type": "code",
   "execution_count": null,
   "metadata": {
    "collapsed": true
   },
   "outputs": [],
   "source": []
  }
 ],
 "metadata": {
  "kernelspec": {
   "display_name": "SageMath 7.3",
   "language": "",
   "name": "sagemath"
  },
  "language_info": {
   "codemirror_mode": {
    "name": "ipython",
    "version": 2
   },
   "file_extension": ".py",
   "mimetype": "text/x-python",
   "name": "python",
   "nbconvert_exporter": "python",
   "pygments_lexer": "ipython2",
   "version": "2.7.10"
  }
 },
 "nbformat": 4,
 "nbformat_minor": 0
}
