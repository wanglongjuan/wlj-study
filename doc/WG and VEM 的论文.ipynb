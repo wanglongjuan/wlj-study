{
 "cells": [
  {
   "cell_type": "markdown",
   "metadata": {},
   "source": [
    "## 1.简介"
   ]
  },
  {
   "cell_type": "markdown",
   "metadata": {},
   "source": [
    "  近年来许多数值方法用于多边形和多面体网格.在这篇论文中, 我们将要讨论WG和VEM的联系.我们显示, 对于扩散\n",
    "方程, 修改之后的WG可以来源于VEM 的新版本获悉和等价的新版本VEM可以来源于WG. 用相同的方法, 我们可以显示\n",
    "原始的WG等价于非协调的VEM[4]. 等价性使我们能够将VEM的收敛理论以及计算机实现应用于WG, 反之亦然. 这两种\n",
    "方法也提供了一种新的视角当用于其它方程时.\n",
    "                           "
   ]
  },
  {
   "cell_type": "markdown",
   "metadata": {},
   "source": [
    "  连接的核心是自由度. VEM空间可以通过自由度嵌入到WG空间中.事实上WG空间中包含更多的自由度但是一些局部的可以被消除并且一些贡献于稳定项. 从本质上说WG和VEM 可以作用于相同的自由度但是作用于不同的函数. 在VENM中, 形状函数是由每个内部单元适合的PDE确定的，通常是非多项式.然而, 在计算中并不需要计算除形状函数的逐点信息, 从而称为“虚单元”.函数空间的结果是一致的. 在WG中, 每一个内部单元的形状函数都是一个简单的多项式. 这些函数总共在单元\n",
    "中是不连续的. 连续性的加强是由定义在边界单元的通过边界积分值的稳定.在WG 中, 我们知道更多的形状函数连续性被破坏. 一致性的违反是可控的也就是我们将展示WG也通过的路径测试和从做VEM的方面.\n",
    "  "
   ]
  },
  {
   "cell_type": "markdown",
   "metadata": {},
   "source": [
    "本文的其余部分如下, 我们首先介绍文献中介绍的两种方法. 然后我们为每个方法给出一个修改的形式, 然后显示它们是相同的. 我们将尝试坚持每种方法中使用的符号, 以便熟悉一个或另一个的读者可以轻松地跟随. 特别是, 我们使用字母V表示VEM中的空间, W表示WG中的空间.\n"
   ]
  },
  {
   "cell_type": "markdown",
   "metadata": {},
   "source": [
    "## 2.函数空间"
   ]
  },
  {
   "cell_type": "markdown",
   "metadata": {},
   "source": [
    "我们认为一个二维的区域 $\\Omega$ 可以分解成一个多边形网格 $\\tau_h$. 每一个单元都是一个简单的多边形, 有 $K$表示. 我们用二维的例子来理解和讨论更高维的网格生成."
   ]
  },
  {
   "cell_type": "markdown",
   "metadata": {},
   "source": [
    "### 2.1. 用于虚单元法的空间."
   ]
  },
  {
   "cell_type": "markdown",
   "metadata": {},
   "source": [
    "我们将在 $K$ 上的空间 \n",
    "\n",
    "$$\n",
    "(1)\\quad\\quad\n",
    "V_k(K) : =\\{v \\to H^1(K):v|_{\\partial K} \\in \\mathbb{B}_k(\\partial K), \\Delta v \\in \\mathbb{P}_{k-2}(K)\\}\n",
    "$$\n",
    "\n",
    "其中$ \\mathbb{B}_k(\\partial K)$ 是在 $\\mathrm{D}$ 上 维数 $\\leq k$ 的多项式空间, 并且 $\\mathbb{P}_{-1}(\\mathrm{D})=0$, 边界空间\n",
    "\n",
    "$$\n",
    "\\mathbb{B}_k(\\partial K):=\\{v \\in C^0(\\partial K): v|_e \\in \\mathbb{P}_{k}(e), 对于所有的边 e \\subset \\partial K\\}\n",
    "$$\n",
    "\n",
    "这个形状函数定义于 (1) 但是关于函数 $v \\in V_k(K)$ 的逐点的函数值需要在 $K$ 解决PDE和认为不怀疑定义是不明确知道的. VEM的新奇之处在于并不需要求解逐点的信息值只需要求解子自由度就可以来表达数值方法的精确性和稳定性."
   ]
  },
  {
   "cell_type": "markdown",
   "metadata": {},
   "source": [
    "考虑对偶空间\n",
    "\n",
    "$$\n",
    "(2) \\quad\\quad\\quad \n",
    "\\mathcal{X}_k(K) = span \\{\\mathcal{X}_v,\\mathcal{X}_e^{k-2}, \\mathcal{X}_K^{k-2}\\}\n",
    "$$\n",
    "\n",
    "这些向量函数的功能是:\n",
    "\n",
    "* $\\mathcal{x}_v$ : 在 $K$ 的顶点处 $v$ 的值.\n",
    "* $\\mathcal{X}_e^{k-2}$ : 边缘上的积分是 $k-2$ 维的\n",
    "\n",
    "$$\n",
    "\\mathcal{X}_e^{k-2} = |e|^{-1}(m,v)_e, \\forall m \\in \\mathcal{M}_{k-2}(e), \\forall e \\subset \\partial K;\n",
    "$$\n",
    "\n",
    "* $\\mathcal{X}_K^{k-2}$ : 单元的积分是 $k-2$ 维的\n",
    "\n",
    "$$\n",
    " \\mathcal{X}_K(v) = |K|^{-1}(m, v)_K\\quad \\forall m \\in  \\mathcal{M}_{k-2}(K)\n",
    "$$"
   ]
  },
  {
   "cell_type": "markdown",
   "metadata": {
    "collapsed": true
   },
   "source": [
    "这里, $d$ 维区域 $D$ 上的单项式 $\\mathbb{M}_l(D)$ 被定义为 \n",
    "\n",
    "$$\n",
    "\\mathbb{M}_l(D) =\\{(\\frac{x-x_c}{h_D})^s,|s| \\leq l \\}\n",
    "$$\n",
    "\n",
    "$x_c$ 是 $D$ 的质心, $h_D$ 是 $D$ 的直径或者 $h_D=|D|^{1/d}$"
   ]
  },
  {
   "cell_type": "markdown",
   "metadata": {},
   "source": [
    "证明 \n",
    "\n",
    "$$\n",
    "(V_k(K))^{'} = \\mathcal{X}_k(K)\n",
    "$$\n",
    "\n",
    "在[2]中是唯一可解和确定的. 以下给了一种简单的证明."
   ]
  },
  {
   "cell_type": "markdown",
   "metadata": {},
   "source": [
    "首先很容易验证集合的维数, 比如 $dimV_k = dim \\mathcal{X}_k$. 因此足够去证明唯一性：\n",
    "\n",
    "对于所有的 $v \\in V_k$, 如果 $\\mathcal{X}(v) = 0$对应所有的$\\mathcal{x} \\in \\mathcal{X}_k$, 则 $v= 0$. 对于 $v \\in V_k(K) \\cap H^1_0(K)$, 我们通过分部积分可以得到\n",
    "\n",
    "$$\n",
    "(\\nabla v , \\nabla v) = (v , -\\Delta v) = (Q_{k-2}v, -\\Delta v)\n",
    "$$\n",
    "\n",
    "这里的 $Q_{k-2}(K)$ 是在 $\\mathbb{P}_{k-2}(K)$ 上关于 $v$ 的 $L^2$ 投影. $\\Delta v \\in \\mathcal{X}_{k-2}$.现在$\\mathcal{X}(v) = 0$对应所有的$\\mathcal{x} \\in \\mathcal{X}_k$意味着 $v|_{\\partial K}=0,Q_{k-2}v=0$. 因此 $v \\in H^1_0(K), \\| \\Delta v \\| = 0$ 即 $v=0$."
   ]
  },
  {
   "cell_type": "markdown",
   "metadata": {},
   "source": [
    "Remark2.1 "
   ]
  },
  {
   "cell_type": "markdown",
   "metadata": {},
   "source": [
    "在VEM空间(1)的定义中使用的运算符 $\\Delta$ 可以由其他运算符替换，只要确保 $V_k(K)$ 的近似特性的 $P_k(K)\\subset V_k(K)$和唯一解.例如, 当 $K$ 被三角化为 $T _K$, 我们可以选择在 $T_K$上$k$阶拉格郎日空间, 并且 $\\Delta_h v \\in \\mathbb{p}_{k-2} (K)$, 其中 $\\Delta_h$ 是在该虚拟三角测量$T_K$上的 $\\Delta$ 的标准Galerkin离散化。"
   ]
  },
  {
   "cell_type": "markdown",
   "metadata": {},
   "source": [
    "我们在单个指标上从新贴标签于自由度. 连接每一个自由度, 它们都存在于 $V_k(K)$ 以至于 $\\mathcal{x}_i(\\phi _j)=\\delta_{ij}\\quad i,j= 1, \\cdots, , N_k=dim V_k(K)$.则每一个函数 $v \\in V_k(K)$ 能扩充为 \n",
    "\n",
    "$$\n",
    "v = \\sum_{i=1}^{N_k} \\mathcal{x}_i(v)\\phi_i\n",
    "$$\n",
    "\n",
    "并且在数值计算方法中可以被认为向量 $v \\in \\mathbb{R}^{N_k}$\n",
    "\n",
    "$$\n",
    "\\mathbf{v} = \\{\\mathcal{X}_1(v), \\mathcal{X}_2(v), \\cdots, \\mathcal{X}_{N_k}(v)\\}\n",
    "$$"
   ]
  },
  {
   "cell_type": "markdown",
   "metadata": {},
   "source": [
    "它的同构可以表示为\n",
    "\n",
    "$$\n",
    "\\mathcal{X}: V_k(K) \\to \\mathbb{R}^{N_k}, \\Phi(v)= \\phi  \\mathbf{v}\n",
    "$$ \n",
    "\n",
    "并且 $\\phi =\\{\\phi_1,\\phi_2,\\cdots, \\phi_{N_k} \\}$"
   ]
  },
  {
   "cell_type": "markdown",
   "metadata": {},
   "source": [
    "随后, 在形状函数计算 $L^2$投影, 作者[1]介绍了一个大的空间\n",
    "\n",
    "$$\n",
    "(4) \\quad\\quad\\quad \\tilde{V}_k(K)=\\{c\\in H^1(K):v|_{\\partial K} \\in \\mathbb{B}_k(\\partial K), \\Delta v \\in \\mathbb{P}_k(K)\\}\n",
    "$$\n",
    "\n",
    "并且子空间同构于$V_k(K)$."
   ]
  },
  {
   "cell_type": "markdown",
   "metadata": {},
   "source": [
    "$$\n",
    "(5)\\quad\\quad\\quad V_k^R(K)=\\{\\omega \\in \\tilde{V}_k(K):(\\omega - \\Pi_k^{\\Delta} \\omega,q^{*})_K = 0\\quad \\forall q^{*} \\in \\mathbb{M}_k(K)\\ \\mathbb{M}_{k-2}(K) \\}\n",
    "$$\n",
    "\n",
    "其中投影 $\\Pi_k^{\\Delta}$将在下一节给出定义."
   ]
  },
  {
   "cell_type": "markdown",
   "metadata": {},
   "source": [
    "通过$k-1,k$ 维空间将对偶空间$ (\\tilde{V}_k(K))'$ 从 $(V_k(K))'$扩大, 空间$V_k(K)$ 和 $V_k^R(K)$ 不同但是有相同的自由度. 对于相同的向量 $v \\in \\mathbb{R}^{N_k}$, 我们可以用不同的函数连接它们而且 $\\Phi_V(\\mathbf{v})\\neq \\Phi_{V^R}(\\mathbf{v})$"
   ]
  },
  {
   "cell_type": "markdown",
   "metadata": {},
   "source": [
    "在整个区域上函数空间的每一个单元将使用虚单元看空间. 给定一个多边形网格在 $\\omega$上 $T_h$,给定维数 $k\\geq 1$, 我们定义\n",
    "\n",
    "$$\n",
    "\\begin{align}\n",
    "V_h &= \\{v\\in H^1(\\Omega):v|_K \\in V_k(K) \\quad \\forall K \\subset T_h \\}\\\\\n",
    "\\tilde{V_h} &= \\{v\\in H^1(\\Omega):v|_K \\in \\tilde{V_k(K)} \\quad \\forall K \\subset T_h \\}\\\\\n",
    "V_h^R &= \\{v\\in H^1(\\Omega):v|_K \\in V_k^R(K) \\quad \\forall K \\subset T_h \\}\\\\\n",
    "\\end{align}\n",
    "$$\n",
    "\n",
    "自由度定义在全局的空间中."
   ]
  },
  {
   "cell_type": "markdown",
   "metadata": {},
   "source": [
    "对于扩散问题, $V_h$就足够了. 介绍 $\\tilde{V_h},V_h^R$ 将会帮助解决一些低阶项, 例如reaction-扩散问题,简化实现在三维中."
   ]
  },
  {
   "cell_type": "markdown",
   "metadata": {},
   "source": [
    "### 用弱Galerkin方法的空间"
   ]
  },
  {
   "cell_type": "markdown",
   "metadata": {},
   "source": [
    "我们首先介绍弱函数空间\n",
    "\n",
    "$$\n",
    "(6)\\quad\\quad\\quad W(K):=\\{v=\\{v_0,v_b\\}:v_0 \\ in L^2(K), v_b \\in L^2(\\partial K)\\}\n",
    "$$\n",
    "\n",
    "并且, 对于 $k \\leq 1$, 弱Galerkin有限元空间\n",
    "\n",
    "$$\n",
    "W_k(K):=\\{v=\\{v_0,v_b\\}:v_0 \\in \\mathbb{P}_k(K),v_b \\in \\mathbb{B}_k(\\partial K)\\}\n",
    "$$"
   ]
  },
  {
   "cell_type": "markdown",
   "metadata": {},
   "source": [
    "我们把边界和内部可以分离写为\n",
    " \n",
    "$$\n",
    "W_k(K)=W_0(K)+W_b(K)\n",
    "$$\n",
    " \n",
    "其中\n",
    "\n",
    "$$\n",
    "\\begin{align}\n",
    "W_0(K) &= \\{v \\in W_k(K)|v = \\{v_0, 0\\}\\}\\\\\n",
    "W_b(K) &= \\{v \\in W_k(K)|v = \\{0, v_b\\}\\}\n",
    "\\end{align}\n",
    "$$\n",
    "\n",
    "对于任意函数 $v= \\{v_0,v_b\\}\\in W_k(K)$, 它方便的显示为 $v_0 \\in W_0(K),v_b \\in W_b(K)$."
   ]
  },
  {
   "cell_type": "markdown",
   "metadata": {},
   "source": []
  }
 ],
 "metadata": {
  "kernelspec": {
   "display_name": "SageMath 7.3",
   "language": "",
   "name": "sagemath"
  },
  "language_info": {
   "codemirror_mode": {
    "name": "ipython",
    "version": 2
   },
   "file_extension": ".py",
   "mimetype": "text/x-python",
   "name": "python",
   "nbconvert_exporter": "python",
   "pygments_lexer": "ipython2",
   "version": "2.7.10"
  }
 },
 "nbformat": 4,
 "nbformat_minor": 0
}
