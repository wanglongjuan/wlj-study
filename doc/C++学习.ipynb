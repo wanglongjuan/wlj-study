{
 "cells": [
  {
   "cell_type": "markdown",
   "metadata": {},
   "source": [
    "# if else 语句"
   ]
  },
  {
   "cell_type": "markdown",
   "metadata": {},
   "source": [
    "1. if else 的语句通用格式：\n",
    " \n",
    "if(test-condition)\n",
    "    \n",
    "    statement1\n",
    "\n",
    "else\n",
    "    \n",
    "    statement2 //如果test-condition是turn或非零，显示结果statement1,否则，显示statement2\n",
    "1. if else 语句可以多重嵌套，每个 else 与最接近 if 的合为一组，如果嵌套的话，可以用大括号括起来\n",
    "     "
   ]
  },
  {
   "cell_type": "markdown",
   "metadata": {},
   "source": [
    "转义字符 转义字符的意义 ASCII代码\n",
    "1. \\n 回车换行 \n",
    "1. \\t 横向跳到下一制表位置\n",
    "1. \\b 退格 \n",
    "1. \\r 回车 \n",
    "1. \\f 走纸换页 \n",
    "1. \\\\ 反斜线符\"\\\" \n",
    "1. \\' 单引号符 \n",
    "1. \\” 双引号符 \n",
    "1. \\a 鸣铃 \n",
    "1. \\ddd 1～3位八进制数所代表的字符\n",
    "1. \\xhh 1～2位十六进制数所代表的字符 "
   ]
  },
  {
   "cell_type": "markdown",
   "metadata": {
    "collapsed": true
   },
   "source": [
    "* 整数和浮点数"
   ]
  },
  {
   "cell_type": "markdown",
   "metadata": {},
   "source": [
    "1. 初始化将赋值与声明合并在一起\n",
    "1. int被设置为对目标计算机而言最为“自然”的长度。自然长度（natural size）指的是计算机处理起来效率最高的长度。\n",
    "1. char 类型：char 类型是专门为存储字符(如字母和数字)而设计的。"
   ]
  }
 ],
 "metadata": {
  "kernelspec": {
   "display_name": "SageMath 7.3",
   "language": "",
   "name": "sagemath"
  },
  "language_info": {
   "codemirror_mode": {
    "name": "ipython",
    "version": 2
   },
   "file_extension": ".py",
   "mimetype": "text/x-python",
   "name": "python",
   "nbconvert_exporter": "python",
   "pygments_lexer": "ipython2",
   "version": "2.7.10"
  }
 },
 "nbformat": 4,
 "nbformat_minor": 0
}
