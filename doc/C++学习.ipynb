{
 "cells": [
  {
   "cell_type": "markdown",
   "metadata": {},
   "source": [
    "# if else 语句"
   ]
  },
  {
   "cell_type": "markdown",
   "metadata": {},
   "source": [
    "1. if else 的语句通用格式：\n",
    " \n",
    "if(test-condition)\n",
    "    \n",
    "    statement1\n",
    "\n",
    "else\n",
    "    \n",
    "    statement2 //如果test-condition是turn或非零，显示结果statement1,否则，显示statement2\n",
    "1. if else 语句可以多重嵌套，每个 else 与最接近 if 的合为一组，如果嵌套的话，可以用大括号括起来\n",
    "     "
   ]
  },
  {
   "cell_type": "markdown",
   "metadata": {},
   "source": [
    "转义字符 转义字符的意义 ASCII代码\n",
    "1. \\n 回车换行 \n",
    "1. \\t 横向跳到下一制表位置\n",
    "1. \\b 退格 \n",
    "1. \\r 回车 \n",
    "1. \\f 走纸换页 \n",
    "1. \\\\ 反斜线符\"\\\" \n",
    "1. \\' 单引号符 \n",
    "1. \\” 双引号符 \n",
    "1. \\a 鸣铃 \n",
    "1. \\ddd 1～3位八进制数所代表的字符\n",
    "1. \\xhh 1～2位十六进制数所代表的字符 "
   ]
  },
  {
   "cell_type": "markdown",
   "metadata": {
    "collapsed": true
   },
   "source": [
    "* 整数和浮点数"
   ]
  },
  {
   "cell_type": "markdown",
   "metadata": {},
   "source": [
    "1. 初始化将赋值与声明合并在一起\n",
    "1. int被设置为对目标计算机而言最为“自然”的长度。自然长度（natural size）指的是计算机处理起来效率最高的长度。\n",
    "1. char 类型：char 类型是专门为存储字符(如字母和数字)而设计的。char是另外一种整形，能够表示所有的字母，数字，标点符号等\n",
    "1. 成员函数？？\n",
    "1. 例如： 'A'为65，即字符A 的ASCII 码;这是char的字面值\n",
    "     * 如何使用C++来找出编码88表示的字符？\n",
    "       答：char c=88;\n",
    "          cout<<c<<endl;\n",
    "1. bool 类型\n",
    "任何数字值或指针值都可被隐式转换为bool值，任何非零值都被转换为ture,而零转换为fasle.\n",
    "1. const 限定符：处理符号常量的方法，用const 关键字来修改变量声明和初始化\n",
    "1. 浮点数：能够表示小数部分的数字\n",
    "  书写浮点数的两种方法：\n",
    "     * 标准小数点表示法\n",
    "     * E表示法\n",
    "1. 浮点类型：float,double,long double "
   ]
  },
  {
   "cell_type": "markdown",
   "metadata": {
    "collapsed": true
   },
   "source": [
    "# 复合类型"
   ]
  },
  {
   "cell_type": "markdown",
   "metadata": {},
   "source": [
    "1. 数组：是一种数据格式，能够存储多个类型的值.\n",
    "要创建数组，可使用声明语句.\n",
    "声明数组的通用格式如下：\n",
    "typename arrayname[arraysize]\n",
    "   * arraysize不能是变量.\n",
    "   * 可以单独访问数组元素:方法：使用下标或索引来对元素进行编号. C++从0 开始编号\n",
    "1. 数组初始化规则：\n",
    "   * 只有定义数组时才使用初始化;\n",
    "   * 可以使用下标分别给数组元素赋值;\n",
    "   * 初始化数组时，提供的值可以少于数组的元素数目;\n",
    "   * eg:long t[500]={0}表示数组所有的元素初始化为0;\n",
    "2. 字符串：存储在内存：的连续字节中的一系列字符;\n",
    "   * C-风格字符串：以空字符结尾，空字符通常写为/0, 其ASCII码为0,用来标记字符串的结尾;\n",
    "   * 基于string 类库的方法"
   ]
  },
  {
   "cell_type": "markdown",
   "metadata": {},
   "source": []
  },
  {
   "cell_type": "markdown",
   "metadata": {
    "collapsed": true
   },
   "source": [
    "面向行输入：\n",
    "\n",
    "1. getline()函数读取整行，它使用通过回车键输入的换行符来确定输入结尾。要调用这种方法可以使用cin.getline()\n",
    "1. get()??\n"
   ]
  },
  {
   "cell_type": "markdown",
   "metadata": {},
   "source": [
    "## string类简介"
   ]
  },
  {
   "cell_type": "markdown",
   "metadata": {},
   "source": [
    "1. 要使用string 类，必须在程序中包含头文件string . string 类位于名称空间std 中，因此必须提供一条 using 指令。string 类隐藏了字符串的数组性质。\n",
    "1. 可以将一个string 对象赋给另一个string 对象:\n",
    "    * char charr1[20]//建立一个空的数组\n",
    "      char charr1[20]=\"jaguar\";//建立一个初始化的数组\n",
    "      string str1;\n",
    "      string str1=\"panther\";\n",
    "      charr1=charr2;\n",
    "      str1=str2;\n",
    "    * string 类简化了字符串合并操作\n",
    "      "
   ]
  },
  {
   "cell_type": "markdown",
   "metadata": {},
   "source": [
    "**结构声明**\n",
    "\n",
    "1. 结构声明的位置：\n",
    "    * main()函数之前，外部声明可适用于任何函数;\n",
    "    * main()函数之后，紧跟大括号，内部声明只适用于大括号里的函数;即\n",
    "1. 结构可以将 string 类作为结构成员"
   ]
  },
  {
   "cell_type": "code",
   "execution_count": null,
   "metadata": {
    "collapsed": true
   },
   "outputs": [],
   "source": []
  }
 ],
 "metadata": {
  "kernelspec": {
   "display_name": "SageMath 7.3",
   "language": "",
   "name": "sagemath"
  },
  "language_info": {
   "codemirror_mode": {
    "name": "ipython",
    "version": 2
   },
   "file_extension": ".py",
   "mimetype": "text/x-python",
   "name": "python",
   "nbconvert_exporter": "python",
   "pygments_lexer": "ipython2",
   "version": "2.7.10"
  }
 },
 "nbformat": 4,
 "nbformat_minor": 0
}
