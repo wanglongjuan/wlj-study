{
 "cells": [
  {
   "cell_type": "markdown",
   "metadata": {},
   "source": [
    "## 一、填空题（每题5分,共20分）"
   ]
  },
  {
   "cell_type": "markdown",
   "metadata": {},
   "source": [
    "#### 1.微分方程 $(y'')^2+(y')^5\\sin x + 2x\\cos^3y''' + 2xy\\sin x=0$ 的阶数是( $\\quad\\quad$),是否为线性方程($\\quad \\quad$). \n",
    "\n",
    "#### 2.利普希茨条件是保证初值问题解唯一的（ $\\quad\\quad$ ）条件.\n",
    "\n",
    "#### 3.当函数 $N(x,y)=$ ( $\\quad\\quad$  ), 使 $x^3y^2\\mathrm dx+N(x,y)\\mathrm dy = 0$ 成为恰当方程.\n",
    "\n",
    "#### 4.已知线性齐次方程组 $x'=A(t)x$ 的基解矩阵为 $\\Phi(t)$, 则 $A(t)=(\\quad\\quad)$"
   ]
  },
  {
   "cell_type": "markdown",
   "metadata": {},
   "source": [
    "3阶，否\n",
    "\n",
    "2.利普希茨条件是保证初值问题解唯一的（ 充分条件 ）条件.\n",
    "\n",
    "3.当函数 $N(x,y)=$ ( $\\quad\\quad$  ), 使 $x^3y^2\\mathrm dx+N(x,y)\\mathrm dy = 0$ 成为恰当方程.\n",
    "\n",
    "方程 $x^3y^2\\mathrm dx+N(x,y)\\mathrm dy = 0$ 为恰当方程的充分必要条件是\n",
    "\n",
    "$$\n",
    "2x^3y = \\frac{\\partial N(x,y)}{\\partial x}\n",
    "$$\n",
    "\n",
    "将 $y$ 视为参数, 求解以 $N$ 未知函数 $x$ 为自变量的线性齐次方程 $ \\frac{\\partial N(x,y)}{\\partial x}=2x^3y$\n",
    "\n",
    "4.已知线性齐次方程组 $x'=A(t)x$ 的基解矩阵为 $\\Phi(t)$, 则 $A(t)=(\\quad\\quad)$\n",
    "\n",
    "$A(t)=\\Phi'(t)\\Phi^{-1}(t)$"
   ]
  },
  {
   "cell_type": "markdown",
   "metadata": {},
   "source": [
    "## 二、求下列方程(组)的通解(每小题10分,共50分)"
   ]
  },
  {
   "cell_type": "markdown",
   "metadata": {},
   "source": [
    "#### 1.求方程 $(x^3+x^2+y^2)\\mathrm dx + x^2y\\mathrm dy =0$ 的通解.\n",
    "\n",
    "\n",
    "#### 2.$y'-e^{y'}\\sin y' =0$\n",
    "\n",
    "#### 3.$x'=Ax$\n",
    "$\n",
    "\\begin{bmatrix}\n",
    "1 & 4 & 2 \\\\\n",
    "0 & -3 & 4\\\\\n",
    "0 & 4 & 3 \n",
    "\\end{bmatrix},\\quad\n",
    "x=\n",
    "\\begin{bmatrix}\n",
    "x_1\\\\\n",
    "x_2\\\\\n",
    "x_3\n",
    "\\end{bmatrix}\n",
    "$\n",
    "\n",
    "#### 4.$\\frac{\\mathrm d^2y}{\\mathrm d^2x}-4\\frac{\\mathrm dy}{\\mathrm dx}+4y=2e^x+e^{2x}+1$\n",
    "\n",
    "#### 5.$x^2yy''+(xy'-y)^2=0$"
   ]
  },
  {
   "cell_type": "markdown",
   "metadata": {},
   "source": [
    "1解： 因为 $\\frac{\\partial M}{\\partial y}=2y,\\frac{\\partial N}{\\partial x}=2xy$, 所以方程不是恰当方程.\n",
    "\n",
    "分组的 \n",
    "\n",
    "$$\n",
    "(x^3\\mathrm dx+x^2y\\mathrm dy)+(x^2+y^2)\\mathrm dx=0\\\\\n",
    "x^2(x\\mathrm dx+y \\mathrm dy)+2(x^2+y^2)\\mathrm dx =0\\\\\n",
    "x^2\\mathrm d(x^2+y^2)+2(x^2+y^2)\\mathrm dx =0\n",
    "$$\n",
    "\n",
    "令 $x^2+y^2=u$, 上面方程化为可分离变量的方程\n",
    "\n",
    "$$\n",
    "x^2\\mathrm du +2u \\mathrm dx =0\\\\\n",
    "\\frac{\\mathrm du}{2u}+\\frac{\\mathrm dx}{x^2}=0\n",
    "$$\n",
    "\n",
    "解之得 $\\ln x^{\\frac{1}{2}}-\\frac{1}{x}=c$, 所以原方程的通解为 $\\ln (x^2+y^2)^{\\frac{1}{2}}-\\frac{1}{x}=c$"
   ]
  },
  {
   "cell_type": "markdown",
   "metadata": {},
   "source": [
    "2.$y'-e^{y'}\\sin y' =0$"
   ]
  },
  {
   "cell_type": "markdown",
   "metadata": {},
   "source": [
    "解： 因为直线 $v=u$ 与曲线 $v=e^u\\sin u$ 至少有一个实交点, 所以函数方程 $u=e^u\\sin u$ 至少有一个实根.\n",
    "\n",
    "用 $k$ 表示函数方程 $u=e^u\\sin u$ 的根, 则有 $y'=k$ 满足微分方程 $y'-e^{y'}\\sin y' =0$.\n",
    "\n",
    "从而求解微分方程 $y'=k$, 得 $y=kx+c$ 为所求方程的解, 即有 $k=\\frac{y-c}{x}$, 所以方程的通积分为 $\\frac{y-c}{x}-e^{\\frac{y-c}{x}}\\sin (\\frac{y-c}{x}) =0$"
   ]
  },
  {
   "cell_type": "markdown",
   "metadata": {},
   "source": [
    "3.$x'=Ax$\n",
    "$\n",
    "\\begin{bmatrix}\n",
    "1 & 4 & 2 \\\\\n",
    "0 & -3 & 4\\\\\n",
    "0 & 4 & 3 \n",
    "\\end{bmatrix},\\quad\n",
    "x=\n",
    "\\begin{bmatrix}\n",
    "x_1\\\\\n",
    "x_2\\\\\n",
    "x_3\n",
    "\\end{bmatrix}\n",
    "$"
   ]
  },
  {
   "cell_type": "markdown",
   "metadata": {},
   "source": [
    "解：(1). 求特征值\n",
    "\n",
    "$$\n",
    "|\\lambda E -A |=0\\\\\n",
    "\\begin{vmatrix}\n",
    "\\lambda-1 & -4 & -2\\\\\n",
    "0 & \\lambda+3 & -4\\\\\n",
    "0 & -4 & \\lambda-3\n",
    "\\end{vmatrix}\n",
    "=(\\lambda-1)(\\lambda-5)(\\lambda+5)=0\\\\\n",
    "\\lambda_1 = 1,\\lambda_2 = 5, \\lambda_3 = -5\n",
    "$$\n",
    "\n",
    "(2).求特征值对应的特征向量.\n",
    "\n",
    "$\\lambda_1,\\lambda_2, \\lambda_3$ 对应的特征向量分别为\n",
    "\n",
    "$$\n",
    "\\begin{bmatrix}\n",
    "1\\\\\n",
    "0\\\\\n",
    "0\n",
    "\\end{bmatrix},\\quad\n",
    "\\begin{bmatrix}\n",
    "2 \\\\\n",
    "1 \\\\\n",
    "2\n",
    "\\end{bmatrix},\\quad\n",
    "\\begin{bmatrix}\n",
    "1 \\\\\n",
    "-2\\\\\n",
    "1\n",
    "\\end{bmatrix}.\n",
    "$$\n",
    "\n",
    "(3).求方程组的解.\n",
    "\n",
    "基本解组为\n",
    "\n",
    "$\n",
    "e^t\n",
    "\\begin{bmatrix}\n",
    "1\\\\ \n",
    "0\\\\\n",
    "0\n",
    "\\end{bmatrix},\\quad\n",
    "e^{5t}\n",
    "\\begin{bmatrix}\n",
    "2\\\\\n",
    "1\\\\\n",
    "2\n",
    "\\end{bmatrix},\\quad\n",
    "e^{-5t}\n",
    "\\begin{bmatrix}\n",
    "1\\\\\n",
    "-2\\\\\n",
    "1\n",
    "\\end{bmatrix}\n",
    "$\n",
    "\n",
    "方程组的通解为 \n",
    "\n",
    "$$\n",
    "x = \n",
    "\\begin{bmatrix}\n",
    "e^t & 2e^{5t} & e^{-5t}\\\\\n",
    "0 & e^{5t} & -2e^{-5t}\\\\\n",
    "0 & 2e^{5} & e^{-5t}\n",
    "\\end{bmatrix}\\cdot\n",
    "\\begin{bmatrix}\n",
    "c_1\\\\\n",
    "c_2\\\\\n",
    "c_3\n",
    "\\end{bmatrix}\n",
    "$$\n",
    "或\n",
    "$$\n",
    "x=c_1e^t\n",
    "\\begin{bmatrix}\n",
    "1\\\\ \n",
    "0\\\\\n",
    "0\n",
    "\\end{bmatrix}+c_2e^{5t}\n",
    "\\begin{bmatrix}\n",
    "2\\\\\n",
    "1\\\\\n",
    "2\n",
    "\\end{bmatrix}+c_3e^{-5t}\n",
    "\\begin{bmatrix}\n",
    "1\\\\\n",
    "-2\\\\\n",
    "1\n",
    "\\end{bmatrix}\n",
    "$$"
   ]
  },
  {
   "cell_type": "markdown",
   "metadata": {},
   "source": [
    "5.$x^2yy''+(xy'-y)^2=0$"
   ]
  },
  {
   "cell_type": "markdown",
   "metadata": {},
   "source": [
    "解：令 $y=xz$, 原方程变为 $z(2z'+xz'')+x(z')^2=0$\n",
    "\n",
    "即 \n",
    "$$\n",
    "2zz'+x(zz''+(z')^2)=0\\\\\n",
    "2zz'+x(zz')'=0\\\\\n",
    "\\frac{(zz')'}{zz'}=-\\frac{2}{x}\n",
    "$$\n",
    "\n",
    "积分得\n",
    "\n",
    "$$\n",
    "zz'=-\\frac{c_1}{2x^2}\\\\\n",
    "(z^2)'=-\\frac{c_1}{x^2}\n",
    "$$\n",
    "\n",
    "再积分得\n",
    "\n",
    "$$\n",
    "z^2=\\frac{c_1}{x}+c_2\n",
    "$$\n",
    "\n",
    "回代变量得原方程的通解为 $y^2=c_1x+c_2x^2$"
   ]
  },
  {
   "cell_type": "markdown",
   "metadata": {},
   "source": [
    "4.$\\frac{\\mathrm d^2y}{\\mathrm d^2x}-4\\frac{\\mathrm dy}{\\mathrm dx}+4y=2e^x+e^{2x}+1$"
   ]
  },
  {
   "cell_type": "markdown",
   "metadata": {},
   "source": [
    "解： $\\lambda^2-4\\lambda+4=0,\\lambda_1=\\lambda_2=2$\n",
    "\n",
    "对应齐次方程的通解为 $y=c_1e^{2x}+c_2xe^{2x}$.\n",
    "\n",
    "由待定系数法和非齐次方程的叠加原理, 设原方程有特解为\n",
    "\n",
    "$$\n",
    "y* = Ax^2e^{2x}+Be^x+C\n",
    "$$\n",
    "\n",
    "代入原方程, 得 $A=\\frac{1}{2},B=2,C=\\frac{1}{4}$\n",
    "\n",
    "原方程的通解为 $y=c_1e^{2x}+c_2xe^{2x}+\\frac{1}{2}x^2e^{2x}+2e^x+\\frac{1}{4}$"
   ]
  },
  {
   "cell_type": "markdown",
   "metadata": {},
   "source": [
    "## 三、证明题（10分）"
   ]
  },
  {
   "cell_type": "markdown",
   "metadata": {},
   "source": [
    "#### 给定方程 $x'''+5x''+6x'=f(t)$, 其中 $f(t)$ 在 $-\\infty < l < \\infty$ 上连续, 设 $\\varphi_1(t), \\varphi_2(t)$ 是上述方程的两个解, 证明 $\\lim_{t \\to \\infty}(\\varphi_1(t)-\\varphi_2(t))$ 存在."
   ]
  },
  {
   "cell_type": "markdown",
   "metadata": {},
   "source": [
    "证明：齐次方程 $x'''+5x''+6x'=0$ 的特征方程为 $\\lambda^3+5\\lambda^2+6\\lambda=0$, 既得特征根为 $\\lambda_1=0,\\lambda_2=-2,\\lambda_3=-3$\n",
    "\n",
    "所以齐次方程的解通解为 $x=c_1+c_2e^{-2t}+c_3e^{-3t}$\n",
    "\n",
    "因为 $\\varphi_1(t),\\varphi_2(t)$ 是非齐次方程的两个解, 知 $\\varphi_1(t)-\\varphi_2(t)$ 是对应齐次方程的解, 也就是说存在适当的常数 $c_1,c_2,c_3$ 使得\n",
    "\n",
    "$\n",
    "\\varphi_1(t)-\\varphi_2(t)=c_1+c_2e^{-2t}+c_3e^{-3t}\n",
    "$\n",
    "\n",
    "从而\n",
    "$\n",
    "\\lim_{t \\to infty}[\\varphi_1(t)-\\varphi_2(t)]=\\lim_{t \\to infty}[c_1+c_2e^{-2t}+c_3e^{-3t}]=c_1\n",
    "$\n",
    "\n",
    "故 $\\lim_{t \\to infty}[\\varphi_1(t)-\\varphi_2(t)]$ 存在\n"
   ]
  },
  {
   "cell_type": "markdown",
   "metadata": {},
   "source": [
    "## 四、应用题（10分）"
   ]
  },
  {
   "cell_type": "markdown",
   "metadata": {},
   "source": [
    "#### 在某以人群中推广新技术是通过其中已经掌握新技术的人进行的, 该人群的总人数为 $N$, 在 $t=0$ 时刻已经掌握新技术的人数为 $x_0$, 在任意时刻 $t$ 已经掌握新技术的人数为  $x(t)$(将 $x(t)$ 视为连续可微变量), 其变换率与已经掌握新技术的人数和未掌握新技术的人数之积成正比, 比例常数 $k>0$, 求$x(t)$."
   ]
  },
  {
   "cell_type": "markdown",
   "metadata": {},
   "source": [
    "解：依题意, $x(t)$ 的变换率 $\\frac{\\mathrm dx}{\\mathrm dt}=kx(t)(N-x(t))$, 初始条件为 $x(0)=x_0$, 即\n",
    "\n",
    "$$\n",
    "\\begin{cases}\n",
    "\\frac{\\mathrm dx}{\\mathrm dt}=kx(N-x)\\\\\n",
    "x(0)=x_0\n",
    "\\end{cases}\\\\\n",
    "\\frac{\\mathrm dx}{\\mathrm dt}=kx(N-x)=kNx-kx^2\n",
    "$$\n",
    "\n",
    "这是伯努利方程, 变形为\n",
    "\n",
    "$$\n",
    "-\\frac{1}{x^2}\\frac{\\mathrm dx}{\\mathrm dt}=-kN\\frac{1}{x}+k\\\\\n",
    "\\frac{\\mathrm d}{\\mathrm dt}(\\frac{1}{x})=-kN\\frac{1}{x}+k\n",
    "$$\n",
    "\n",
    "这可视为以 $\\frac{1}{x}$ 为未知数的一阶线性方程, 则\n",
    "\n",
    "$$\n",
    "\\frac{1}{x}=e^{-kNt}(k\\int e^{kNt}\\mathrm dt +C)=Ce^{-kNt}+\\frac{1}{N}\n",
    "$$\n",
    "\n",
    "所以方程的通解为 $x=\\frac{Ne^{kNt}}{CN+e^{kNt}}$\n",
    "\n",
    "由初始条件 $x(0)=x_0$, 得 $C=\\frac{N-X_0}{X_0N}$, 故所求函数为\n",
    "\n",
    "$$\n",
    "x(t)=\\frac{Nx_0e^{kNt}}{N-x_0+x_0e^{kNt}}\n",
    "$$\n",
    "\n"
   ]
  },
  {
   "cell_type": "code",
   "execution_count": null,
   "metadata": {
    "collapsed": true
   },
   "outputs": [],
   "source": []
  }
 ],
 "metadata": {
  "kernelspec": {
   "display_name": "SageMath 7.3",
   "language": "",
   "name": "sagemath"
  },
  "language_info": {
   "codemirror_mode": {
    "name": "ipython",
    "version": 2
   },
   "file_extension": ".py",
   "mimetype": "text/x-python",
   "name": "python",
   "nbconvert_exporter": "python",
   "pygments_lexer": "ipython2",
   "version": "2.7.10"
  }
 },
 "nbformat": 4,
 "nbformat_minor": 0
}
