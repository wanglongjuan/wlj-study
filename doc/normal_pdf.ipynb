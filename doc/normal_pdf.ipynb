{
 "cells": [
  {
   "cell_type": "markdown",
   "metadata": {},
   "source": [
    "正态分布的概率密度函数的定义如下, 其中 $\\mu$ 表示期望， $\\sigma^2$ 表示方差：\n",
    "\n",
    "$$\n",
    "f(x|\\mu, \\sigma^2)= \\frac{1}{\\sqrt{2\\pi \\sigma^2}}e^{-\\frac{(x-\\mu)^2}{2\\sigma^2}}\n",
    "$$\n",
    "\n",
    "所谓最大似然估计, 就是找到一组参数使得下面的乘积最大, 其中 $x_i$ 为样本中的值：\n",
    "$$\n",
    "f(x_1)f(x_2)\\cdots f(x_n) \n",
    "$$"
   ]
  },
  {
   "cell_type": "markdown",
   "metadata": {},
   "source": [
    "偏样本方差是正态分布随机变量的最大似然估计.\n",
    "\n",
    "如果有一个样本包含 $n$ 个随机数, 并且知道它们符合正态分布, 通过该样本可以估算出正态分布的概率密度函数的参数. \n",
    "\n",
    "所估算的那组正态分布参数最符合给定的样本, 就称为最大似然估计.\n",
    "\n"
   ]
  },
  {
   "cell_type": "code",
   "execution_count": null,
   "metadata": {
    "collapsed": true
   },
   "outputs": [],
   "source": []
  }
 ],
 "metadata": {
  "kernelspec": {
   "display_name": "SageMath 7.3",
   "language": "",
   "name": "sagemath"
  },
  "language_info": {
   "codemirror_mode": {
    "name": "ipython",
    "version": 2
   },
   "file_extension": ".py",
   "mimetype": "text/x-python",
   "name": "python",
   "nbconvert_exporter": "python",
   "pygments_lexer": "ipython2",
   "version": "2.7.10"
  }
 },
 "nbformat": 4,
 "nbformat_minor": 0
}
