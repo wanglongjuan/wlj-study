{
 "cells": [
  {
   "cell_type": "markdown",
   "metadata": {},
   "source": [
    "### 最速下降法"
   ]
  },
  {
   "cell_type": "markdown",
   "metadata": {},
   "source": [
    "最速下降法又称负梯度法."
   ]
  },
  {
   "cell_type": "markdown",
   "metadata": {},
   "source": [
    "考虑无约束问题 $min f(x) \\quad x \\to R^n$, 其中 $f(x)$ 具有一阶连续偏导数. "
   ]
  },
  {
   "cell_type": "markdown",
   "metadata": {},
   "source": [
    "最速下降法的迭代公式是\n",
    "\n",
    "$$\n",
    "x^{(k+1)}=x^{(k)}+\\lambda_kd^{(k)}\n",
    "$$\n",
    "\n",
    "其中 $d^{(k)}$ 是从 $x^{(k)}$ 出发的搜索方向, 这里取在点 $x^{(k)}$ 处的最速下降方向, 即\n",
    "\n",
    "$$\n",
    "d^{(k)}=-\\triangledown f(x^{(k)})\n",
    "$$\n",
    "\n",
    "$\\lambda_k$ 是从 $x^{(k)}$ 出发沿方向 $d^{(k)}$ 进行一维搜索的步长, 即 $\\lambda_k$ 满足\n",
    "\n",
    "$$\n",
    "f(x^{(k)}+\\lambda_kd^{(k)})=\\min_{\\substack{\n",
    "\\lambda \\geq o \\\\\n",
    "}}f(x^{(k)}+\\lambda_kd^{(k)})\n",
    "$$"
   ]
  },
  {
   "cell_type": "markdown",
   "metadata": {},
   "source": [
    "计算步骤如下：\n",
    "(１)给定初点 $x^{(1)}\\in {\\mathrm R^n}$ , 允许误差 $\\varepsilon>0$, 置 $k=1$.\n",
    "\n",
    "(2)计算搜索方向　$d^{(k)}=-\\triangledown f(x^{(k)})$.\n",
    "\n",
    "(3)若 $\\|d^{(k)}\\|\\leq \\varepsilon$, 则停止计算; 否则, 从 $x^{(k)}$ 出发沿方向 $d^{(k)}$ 进行一维搜索, 求 $\\lambda_k$ 使\n",
    "\n",
    "$$\n",
    "f(x^{(k)}+\\lambda_kd^{(k)})=\\min_{\\substack{\n",
    "\\lambda \\geq o \\\\\n",
    "}}f(x^{(k)}+\\lambda_kd^{(k)})\n",
    "$$\n",
    "\n",
    "(4)令 $x^{(k+1)}=x^{(k)}+\\lambda_kd^{(k)}$, 置 $k:=k+1$ 转步骤 $（２）$　\n"
   ]
  },
  {
   "cell_type": "markdown",
   "metadata": {},
   "source": [
    "最速下降法的优点：\n",
    "\n",
    "算法每次迭代的计算量少, 存储量亦少;从一个不太好的初始点出发, 算法产生的迭代点也可能接近极小点.\n",
    "\n",
    "缺点：下降速度慢，有时参数会震荡在最优解附近无法终止."
   ]
  },
  {
   "cell_type": "code",
   "execution_count": null,
   "metadata": {
    "collapsed": true
   },
   "outputs": [],
   "source": []
  }
 ],
 "metadata": {
  "kernelspec": {
   "display_name": "SageMath 7.3",
   "language": "",
   "name": "sagemath"
  },
  "language_info": {
   "codemirror_mode": {
    "name": "ipython",
    "version": 2
   },
   "file_extension": ".py",
   "mimetype": "text/x-python",
   "name": "python",
   "nbconvert_exporter": "python",
   "pygments_lexer": "ipython2",
   "version": "2.7.10"
  }
 },
 "nbformat": 4,
 "nbformat_minor": 0
}
