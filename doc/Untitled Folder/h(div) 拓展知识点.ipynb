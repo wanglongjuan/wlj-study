{
 "cells": [
  {
   "cell_type": "markdown",
   "metadata": {},
   "source": [
    "格林公式:\n",
    "\n",
    "$$\n",
    "\\int_P \\mathbf {curl \\psi} \\cdot \\varphi \\mathrm dP = \\int_P \\psi \\cdot \\mathbf{curl \\varphi} \\mathrm dP + \\int_{\\partial P} \\psi \\cdot(\\varphi \\wedge \\mathbf n ) \\mathrm dS\n",
    "$$"
   ]
  },
  {
   "cell_type": "markdown",
   "metadata": {},
   "source": [
    "同样推得：\n",
    "\n",
    "$$\n",
    "\\int_P \\mathbf{curl \\psi} \\cdot \\mathbf{curl \\varphi} \\mathrm dP = \\int_P \\psi \\cdot [-\\Delta \\mathbf \\varphi + \\mathbf{grad} div \\varphi] \\mathrm dP + \\int_{\\partial P} \\psi \\cdot (\\mathbf {curl \\varphi}\\wedge \\mathbf n ) \\mathrm dS\n",
    "$$"
   ]
  },
  {
   "cell_type": "markdown",
   "metadata": {},
   "source": [
    "$$\n",
    "\\nabla \\times (\\nabla \\times E) = \\nabla (\\nabla \\cdot E) - \\nabla^2 E\n",
    "$$"
   ]
  },
  {
   "cell_type": "code",
   "execution_count": null,
   "metadata": {
    "collapsed": true
   },
   "outputs": [],
   "source": []
  }
 ],
 "metadata": {
  "kernelspec": {
   "display_name": "Python 3",
   "language": "python",
   "name": "python3"
  },
  "language_info": {
   "codemirror_mode": {
    "name": "ipython",
    "version": 3
   },
   "file_extension": ".py",
   "mimetype": "text/x-python",
   "name": "python",
   "nbconvert_exporter": "python",
   "pygments_lexer": "ipython3",
   "version": "3.5.2"
  }
 },
 "nbformat": 4,
 "nbformat_minor": 2
}
