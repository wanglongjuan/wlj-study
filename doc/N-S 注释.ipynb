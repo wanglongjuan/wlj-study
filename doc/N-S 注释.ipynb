{
 "cells": [
  {
   "cell_type": "markdown",
   "metadata": {},
   "source": [
    "**练习 1.2** 令 $A(t)$ 是可逆的并且关于 $t$ 可微, 证明 \n",
    "\n",
    "$$\\frac{d}{dt}\\, det\\, A(t) = det\\, A\\, tr(A^{-1}\\frac{d}{dt} A(t))$$"
   ]
  },
  {
   "cell_type": "markdown",
   "metadata": {},
   "source": [
    "**证明:**\n",
    "\n",
    "取\n",
    "\n",
    "$$\n",
    "A= \n",
    "\\begin{bmatrix}\n",
    "a_{11} & a_{12}\\\\\n",
    "a_{21} & a_{22}\\\\\n",
    "\\end{bmatrix}\n",
    "$$\n",
    "\n",
    "设 $A^*$ 是伴随矩阵, $A$ 是可逆矩阵, 则 $A^{-1} = \\frac{1}{|A|} A^*$\n",
    "\n",
    "由 $A^*A = |A| E_n$, 可得\n",
    "\n",
    "$$\n",
    "A^* \\frac{dA}{dt} + (\\frac{dA^*}{dt})A = \\frac{d}{dt} |A| E_n\n",
    "$$\n",
    "\n",
    "由因为\n",
    "\n",
    "$$\n",
    "\\frac{d|A|}{dt} = \n",
    "\\begin{vmatrix}\n",
    "\\frac{da_{11}}{dt} & a_{12}\\\\\n",
    "\\frac{da_{21}}{dt} & a_{22}\\\\\n",
    "\\end{vmatrix}\n",
    "+\n",
    "\\begin{vmatrix}\n",
    "a_{11} & \\frac{da_{12}}{dt}\\\\\n",
    "a_{21} & \\frac{da_{22}}{dt}\\\\\n",
    "\\end{vmatrix}\n",
    "$$\n"
   ]
  },
  {
   "cell_type": "markdown",
   "metadata": {},
   "source": [
    "$$\n",
    "A^* \\frac{A}{dt} = \n",
    "\\begin{bmatrix}\n",
    "a_{22} & -a_{12}\\\\\n",
    "-a_{21} & a_{11}\n",
    "\\end{bmatrix}\n",
    "\\begin{bmatrix}\n",
    "\\frac{da_{11}}{dt} & \\frac{da_{12}}{dt}\\\\\n",
    "\\frac{da_{21}}{dt} & \\frac{da_{22}}{dt}\\\\\n",
    "\\end{bmatrix}\\\\\n",
    "=\n",
    "\\begin{bmatrix}\n",
    "a_{22} \\frac{da_{11}}{dt}-a_{12} \\frac{da_{21}}{dt} & a_{22} \\frac{da_{12}}{dt}-a_{12} \\frac{da_{22}}{dt}\\\\\n",
    "-a_{21} \\frac{da_{11}}{dt}+a_{11}\\frac{da_{21}}{dt} & -a_{21}\\frac{da_{12}}{dt}+a_{11}\\frac{da_{22}}{dt}\\\\\n",
    "\\end{bmatrix}\n",
    "$$\n",
    "\n",
    "$$\n",
    "tr(A^* \\frac{A}{dt}) =a_{22} \\frac{da_{11}}{dt}-a_{12}+ -a_{21}\\frac{da_{12}}{dt}+a_{11}\\frac{da_{22}}{dt}\n",
    "$$\n",
    "\n",
    "所以\n",
    "\n",
    "$$\n",
    "\\frac{d|A|}{dt} = tr(A^* \\frac{A}{dt})\n",
    "$$\n",
    "\n",
    "对上式取迹有\n",
    "\n",
    "$$\n",
    "tr(A^* \\frac{dA}{dt}) + tr[(\\frac{dA^*}{dt})A] = tr(\\frac{d}{dt} |A| E_n)\n",
    "$$\n",
    "\n",
    "从而\n",
    "\n",
    "$$\n",
    "tr[(\\frac{dA^*}{dt})A] = (n-1) tr(\\frac{d}{dt} |A|)\n",
    "$$\n",
    "\n",
    "故\n",
    "\n",
    "$$\n",
    "tr(|A| A^{-1} \\frac{d}{dt} |A|) = tr(A^* \\frac{dA}{dt}) =tr(\\frac{d}{dt} |A|)\n",
    "$$\n",
    "\n",
    "即\n",
    "\n",
    "$$\n",
    "tr(\\frac{d}{dt} |A|)=|A| tr(A^{-1} \\frac{d}{dt} |A|) \n",
    "$$"
   ]
  },
  {
   "cell_type": "markdown",
   "metadata": {},
   "source": [
    "**散度**"
   ]
  },
  {
   "cell_type": "markdown",
   "metadata": {
    "collapsed": true
   },
   "source": [
    "描绘矢量场的特性, 会用到通量: 矢量场穿过一个曲面的通量."
   ]
  },
  {
   "cell_type": "markdown",
   "metadata": {
    "collapsed": true
   },
   "source": [
    "矢量的散度代表的是其通量的体密度, 矢量场散度的体积分就是该矢量穿过包围该体积的的总封闭面的总通量, 散度定理也称为高斯定理."
   ]
  },
  {
   "cell_type": "markdown",
   "metadata": {
    "collapsed": true
   },
   "source": [
    "更严格地说，在点p处的矢量场F的发散可以被定义为当V收缩到p时，跨越三维区域V的平滑边界的F的净流量除以V的体积的极限.\n",
    "\n",
    "$$\n",
    "div F(p)\n",
    "$$"
   ]
  },
  {
   "cell_type": "markdown",
   "metadata": {
    "collapsed": true
   },
   "source": [
    "#### 遇见的英语名词"
   ]
  },
  {
   "cell_type": "markdown",
   "metadata": {
    "collapsed": true
   },
   "source": [
    "1. Eulerian coordinates 欧拉坐标\n",
    "2. velocity [物] 速度\n",
    "3. computation n. 估计, 计算\n",
    "4. independent [数] 无关的\n",
    "5. dependent [数] 等价的, 等势的, 相关的\n",
    "6. material derivative [流] 物质导数\n",
    "7. fluid parcel 流体微团\n",
    "8. volume 体积, 强度, 容积\n",
    "9. mass density 质量密度\n",
    "10. distortion [数] 偏差 n. 变形; [物] 失真, 扭曲, 曲解\n",
    "11. mechanics 力学\n",
    "12. interchangeable 可互换的, 可交换的\n",
    "13. conservation of momentum 动量守恒\n",
    "14. conservation of mass 质量守恒\n",
    "15. body force 体积力\n",
    "16. surface force 面积力\n",
    "17. magnetism 磁力\n",
    "18. decomposed 分解的\n",
    "19. tensor [数] 张量\n",
    "20. normal direction 法线方向\n",
    "21. tangential direction 切线方向\n",
    "22. rotation 旋转, 循环\n",
    "23. invariant [数] 不变量 [计]不变式\n",
    "24. kinetic energy 动能\n",
    "25. the first law of thermodynamics 热力学第一定律\n",
    "26. viscous 粘性的 invisced 非粘性的\n",
    "27. isentropic [热] 等熵的\n",
    "28. nondimensionalization 无量纲化\n",
    "29. bounary layer effect 边界层效应\n",
    "30. quadratic 二次数\n",
    "31. convection n. [流][气象] 对流\n",
    "32. coupled system 耦合系统\n",
    "33. vorticity [流] 漩涡\n",
    "34. kinematic pressure [流] 动压, 动压力\n",
    "35. evolution [数] 开方 n. 演变; 进化论; 进展\n",
    "36. curl [物] 旋度\n",
    "37. enthalpy [热] 焓; 热焓; 热焓量\n",
    "38. homogeneous [数] 齐次的"
   ]
  },
  {
   "cell_type": "markdown",
   "metadata": {},
   "source": [
    "#### 雅可比行列式"
   ]
  },
  {
   "cell_type": "markdown",
   "metadata": {},
   "source": [
    "雅可比行列式定义为\n",
    "\n",
    "$$\n",
    "J(t) = det |\\frac{\\partial x_i}{\\partial \\xi_i}|\n",
    "$$\n",
    "\n",
    "在坐标变化时, 雅可比行列式起着重要的作用"
   ]
  },
  {
   "cell_type": "markdown",
   "metadata": {},
   "source": [
    "例如, 对一个二维流动, 流速的导数:\n",
    "\n",
    "$$\n",
    "\\frac{\\partial (u_1, u_2)}{\\partial (x_1, x_2)} = \n",
    "\\begin{vmatrix}\n",
    "\\frac{\\partial u_1}{\\partial x_1} & \\frac{\\partial u_1}{\\partial x_2}\\\\\n",
    "\\frac{\\partial u_2}{\\partial x_1} & \\frac{\\partial u_2}{\\partial x_1} \n",
    "\\end{vmatrix}\n",
    "$$\n",
    "\n",
    "如果要表示在另一坐标系 $(\\xi_j)$ 中流速的导数, 则为:\n",
    "\n",
    "\n",
    "$$\n",
    "\\frac{\\partial (u_1, u_2)}{\\partial (\\xi_1, \\xi_2)} =\\frac{\\partial (u_1, u_2)}{\\partial (x_1, x_2)} \\frac{\\partial (x_1, x_2)}{\\partial (\\xi_1, \\xi_2)} \n",
    "$$\n",
    "\n",
    "其中 \n",
    "\n",
    "$$\n",
    "\\frac{\\partial (u_1, u_2)}{\\partial (\\xi_1, \\xi_2)} =J(t)\n",
    "$$\n",
    "\n",
    "即为雅可比行列式"
   ]
  },
  {
   "cell_type": "markdown",
   "metadata": {},
   "source": [
    "雅可比行列式的另一个重要的作用是当多重积分中改变积分的变量时, 例如 为简单起见仍研究一二维流动, 运动的某一属性 $F(x_1, x_2)$, 流场的面积为 $S$, 如果变换到一个新的坐标系 $(\\xi_1, \\xi_2)$ 中去, \n",
    "\n",
    "$$\n",
    "x_1 = x_1(\\xi_1, \\xi_2), x_2 = x_2(\\xi_1, \\xi_2)\n",
    "$$\n",
    "\n",
    "则\n",
    "\n",
    "$$\n",
    "dx_1 = \\frac{\\partial x_1}{\\partial \\xi_1} \\mathrm {\\xi_1} + \\frac{\\partial x_1}{\\partial \\xi_2} \\mathrm {\\xi_2}\\\\\n",
    "dx_2 = \\frac{\\partial x_2}{\\partial \\xi_1} \\mathrm {\\xi_1} + \\frac{\\partial x_2}{\\partial \\xi_2} \\mathrm {\\xi_2}\n",
    "$$"
   ]
  },
  {
   "cell_type": "markdown",
   "metadata": {},
   "source": [
    "微元面积\n",
    "\n",
    "$$\n",
    "dx_1 \\times dx_2 = J \\mathrm d \\xi_1 \\times \\mathrm d\\xi_2\n",
    "$$"
   ]
  },
  {
   "cell_type": "markdown",
   "metadata": {
    "collapsed": true
   },
   "source": [
    "二重积分在不同的坐标系中的变换可以写为:\n",
    "\n",
    "$$\n",
    "\\iint_s F(x_1,x_2) \\mathrm {dx_1dx_2} =\\iint_{s^{'}} F[x_1(\\xi_1,\\xi_2), x_2(\\xi_1, \\xi_2)] \\frac{\\partial (x_1, x_2)}{\\partial (\\xi_1, \\xi_2)}  \\mathrm {d \\xi_1 d\\xi_2}\n",
    "$$\n",
    "\n",
    "式中 $\\frac{\\partial (x_1, x_2)}{\\partial (\\xi_1, \\xi_2)}$ 即二维雅可比行列式. $s^{'}$ 为 ${\\xi_j}$ 坐标系中通过上式将 $(x_i)$ 坐标系中的 $s$ 面积变换而得的面积."
   ]
  },
  {
   "cell_type": "markdown",
   "metadata": {
    "collapsed": true
   },
   "source": [
    "#### 向量场的旋度"
   ]
  },
  {
   "cell_type": "markdown",
   "metadata": {},
   "source": [
    "向量场 $A$ 中任一点 $M$, 过 $M$ 点任一方向 $n$, 以 $n$ 为法向作一微小面积 $\\Delta S$, 其边界为 $\\Delta l$. 若极限 $\\lim_{\\Delta S \\to 0} \\frac{\\int_{\\Delta l}A \\mathrm l\\mathrm dl}{\\Delta S}$ 称为向量场 $A$ 在 $M$ 点处沿 $n$ 方向上的环量面密度. 在过 $M$ 点的所有方向中存放一个环量面密度最大的方向. 旋度(curl)就是这样一个向量, 它的方向即环量密度最大的分方向, 其大小即为这个最大的环量面密度的值, 记为 rotA  或 curl A\n",
    "\n",
    "$$\n",
    "rot A = \n",
    "\\begin{vmatrix}\n",
    "e_1 & e_2 & e_3\\\\\n",
    "\\frac{\\partial }{\\partial x_1} & \\frac{\\partial }{\\partial x_2} &\\frac{\\partial }{\\partial x_3} \\\\\n",
    "A_1 & A_2 & A_3\n",
    "\\end{vmatrix}\n",
    "=\\nabla \\times A\n",
    "$$"
   ]
  },
  {
   "cell_type": "markdown",
   "metadata": {},
   "source": [
    "旋度的基本运算法则:\n",
    "\n",
    "$$\n",
    "\\nabla \\times (A_1 \\pm A_2) = \\nabla \\times A_1 \\pm \\nabla \\times A_2\\\\\n",
    "\\nabla \\times (\\phi A) = \\phi \\nabla \\times A + \\nabla\\phi \\times A\n",
    "$$"
   ]
  },
  {
   "cell_type": "code",
   "execution_count": null,
   "metadata": {
    "collapsed": true
   },
   "outputs": [],
   "source": []
  }
 ],
 "metadata": {
  "kernelspec": {
   "display_name": "SageMath 7.5.1",
   "language": "",
   "name": "sagemath"
  },
  "language_info": {
   "codemirror_mode": {
    "name": "ipython",
    "version": 2
   },
   "file_extension": ".py",
   "mimetype": "text/x-python",
   "name": "python",
   "nbconvert_exporter": "python",
   "pygments_lexer": "ipython2",
   "version": "2.7.13"
  }
 },
 "nbformat": 4,
 "nbformat_minor": 0
}
