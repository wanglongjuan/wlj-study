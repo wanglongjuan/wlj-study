{
 "cells": [
  {
   "cell_type": "markdown",
   "metadata": {},
   "source": [
    "**练习 1.2** 令 $A(t)$ 是可逆的并且关于 $t$ 可微, 证明 \n",
    "\n",
    "$$\\frac{d}{dt} det A(t) = det A tr(A^{-1}\\frac{d}{dt} A(t))$$"
   ]
  },
  {
   "cell_type": "markdown",
   "metadata": {},
   "source": [
    "**证明**取\n",
    "\n",
    "$$\n",
    "A= \n",
    "\\begin{bmatrix}\n",
    "a_{11} & a_{12}\\\\\n",
    "a_{21} & a_{22}\\\\\n",
    "\\end{bmatrix}\n",
    "$$\n",
    "\n",
    "设 $A^*$ 是伴随矩阵, $A$ 是可逆矩阵, 则 $A^{-1} = \\frac{1}{|A|} A^*$\n",
    "\n",
    "由 $A*A = |A| E_n$, 可得\n",
    "\n",
    "$$\n",
    "A^* \\frac{dA}{dt} + (\\frac{dA^*}{dt})A = \\frac{d}{dt} |A| E_n\n",
    "$$\n",
    "\n",
    "由因为\n",
    "\n",
    "$$\n",
    "\\frac{d|A|}{dt} = \n",
    "\\begin{vmatrix}\n",
    "\\frac{da_{11}}{dt} & a_{12}\\\\\n",
    "\\frac{da_{21}}{dt} & a_{22}\\\\\n",
    "\\end{vmatrix}\n",
    "+\n",
    "\\begin{vmatrix}\n",
    "a_{11} & \\frac{da_{12}}{dt}\\\\\n",
    "a_{21} & \\frac{da_{22}}{dt}\\\\A^* \\frac{dA}{dt} + (\\frac{dA^*}{dt})A = \\frac{d}{dt} |A| E_n\n",
    "\\end{vmatrix}\n",
    "$$"
   ]
  },
  {
   "cell_type": "markdown",
   "metadata": {},
   "source": [
    "$$\n",
    "A^* \\frac{A}{dt} = \n",
    "\\begin{bmatrix}\n",
    "a_{22} & -a_{12}\\\\\n",
    "-a_{21} & a_{11}\n",
    "\\end{bmatrix}\n",
    "\\begin{bmatrix}\n",
    "\\frac{da_{11}}{dt} & \\frac{da_{12}}{dt}\\\\\n",
    "\\frac{da_{21}}{dt} & \\frac{da_{22}}{dt}\\\\\n",
    "\\end{bmatrix}\\\\\n",
    "=\n",
    "\\begin{bmatrix}\n",
    "a_{22} \\frac{da_{11}}{dt}-a_{12} \\frac{da_{21}}{dt} & a_{22} \\frac{da_{12}}{dt}-a_{12} \\frac{da_{22}}{dt}\\\\\n",
    "-a_{21} \\frac{da_{11}}{dt}+a_{11}\\frac{da_{21}}{dt} & -a_{21}\\frac{da_{12}}{dt}+a_{11}\\frac{da_{22}}{dt}\\\\\n",
    "\\end{bmatrix}\n",
    "$$\n",
    "\n",
    "$$\n",
    "tr(A^* \\frac{A}{dt}) =a_{22} \\frac{da_{11}}{dt}-a_{12}+ -a_{21}\\frac{da_{12}}{dt}+a_{11}\\frac{da_{22}}{dt}\n",
    "$$\n",
    "\n",
    "所以\n",
    "\n",
    "$$\n",
    "\\frac{d|A|}{dt} = tr(A^* \\frac{A}{dt})\n",
    "$$\n",
    "\n",
    "对上式取迹有\n",
    "\n",
    "$$\n",
    "tr(A^* \\frac{dA}{dt}) + tr[(\\frac{dA^*}{dt})A] = tr(\\frac{d}{dt} |A| E_n)\n",
    "$$\n",
    "\n",
    "从而\n",
    "\n",
    "$$\n",
    "tr[(\\frac{dA^*}{dt})A] = (n-1) tr(\\frac{d}{dt} |A|)\n",
    "$$\n",
    "\n",
    "故\n",
    "\n",
    "$$\n",
    "tr(|A| A^{-1} \\frac{d}{dt} |A|) = tr(A^* \\frac{dA}{dt}) =tr(\\frac{d}{dt} |A|)\n",
    "$$\n",
    "\n",
    "即\n",
    "\n",
    "$$\n",
    "tr(\\frac{d}{dt} |A|)=|A| tr(A^{-1} \\frac{d}{dt} |A|) \n",
    "$$"
   ]
  },
  {
   "cell_type": "markdown",
   "metadata": {},
   "source": [
    "**散度**"
   ]
  },
  {
   "cell_type": "markdown",
   "metadata": {
    "collapsed": true
   },
   "source": [
    "描绘矢量场的特性, 会用到通量: 矢量场穿过一个曲面的通量."
   ]
  },
  {
   "cell_type": "markdown",
   "metadata": {
    "collapsed": true
   },
   "source": [
    "矢量的散度代表的是其通量的体密度, 矢量场散度的体积分就是该矢量穿过包围该体积的的总封闭面的总通量, 散度定理也称为高斯定理."
   ]
  },
  {
   "cell_type": "code",
   "execution_count": null,
   "metadata": {
    "collapsed": true
   },
   "outputs": [],
   "source": []
  },
  {
   "cell_type": "code",
   "execution_count": null,
   "metadata": {
    "collapsed": true
   },
   "outputs": [],
   "source": []
  },
  {
   "cell_type": "code",
   "execution_count": null,
   "metadata": {
    "collapsed": true
   },
   "outputs": [],
   "source": []
  }
 ],
 "metadata": {
  "kernelspec": {
   "display_name": "SageMath 7.5.1",
   "language": "",
   "name": "sagemath"
  },
  "language_info": {
   "codemirror_mode": {
    "name": "ipython",
    "version": 2
   },
   "file_extension": ".py",
   "mimetype": "text/x-python",
   "name": "python",
   "nbconvert_exporter": "python",
   "pygments_lexer": "ipython2",
   "version": "2.7.13"
  }
 },
 "nbformat": 4,
 "nbformat_minor": 0
}
