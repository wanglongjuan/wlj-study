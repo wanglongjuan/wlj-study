{
 "cells": [
  {
   "cell_type": "markdown",
   "metadata": {},
   "source": [
    "#### 制作表格"
   ]
  },
  {
   "cell_type": "markdown",
   "metadata": {},
   "source": [
    "#### 1. python-PrettyTable"
   ]
  },
  {
   "cell_type": "markdown",
   "metadata": {},
   "source": [
    "Python 通过 prettytable 模块将输出内容如表格方式整齐输出, Python 本身并不内置, 需要安装第三方库.\n",
    "\n",
    "安装:\n",
    "\n",
    "pip install PrettyTable"
   ]
  },
  {
   "cell_type": "markdown",
   "metadata": {},
   "source": [
    "**使用**"
   ]
  },
  {
   "cell_type": "code",
   "execution_count": null,
   "metadata": {
    "collapsed": true
   },
   "outputs": [],
   "source": [
    "from prettytable import PrettyTable\n",
    "\n",
    "x = PrettyTable([\"姓名\", \"性别\", \"年龄\", \"存款\"])\n",
    " \n",
    "x.align[\"姓名\"] = \"1\" #以姓名字段左对齐\n",
    "x.padding_width = 1  # 填充宽度\n",
    "x.add_row([\"赵一\",\"男\", 20, 100000])\n",
    "x.add_row([\"钱二\",\"男\", 21, 500])\n",
    "x.add_row([\"孙三\", \"男\", 22, 400.7])\n",
    "x.add_row([\"李四\", \"男\", 23, 619.5])\n",
    "x.add_row([\"周五\", \"男\", 24, 1214.8])\n",
    "x.add_row([\"吴六\", \"女\", 25, 646.9])\n",
    "x.add_row([\"郑七\", \"女\", 26, 869.4])\n",
    "x.add_row([\"王七加一\", \"男\", 21, 869.4])\n",
    "\n",
    "print(x)\n"
   ]
  },
  {
   "cell_type": "markdown",
   "metadata": {},
   "source": [
    "#### 2. pandas.DataFrame"
   ]
  },
  {
   "cell_type": "markdown",
   "metadata": {},
   "source": [
    "pandas 是基于Numpy开发, 提供了众多更高级的数据处理功能"
   ]
  },
  {
   "cell_type": "code",
   "execution_count": null,
   "metadata": {
    "collapsed": true
   },
   "outputs": [],
   "source": [
    "import pandas as pd"
   ]
  },
  {
   "cell_type": "code",
   "execution_count": 4,
   "metadata": {
    "collapsed": true
   },
   "outputs": [],
   "source": [
    "import numpy as np"
   ]
  },
  {
   "cell_type": "code",
   "execution_count": 5,
   "metadata": {
    "collapsed": false
   },
   "outputs": [],
   "source": [
    "point = np.array([\n",
    "    (0, 0), \n",
    "    (1, 0), \n",
    "    (1, 1),\n",
    "    (0, 1)], dtype=np.float)"
   ]
  },
  {
   "cell_type": "code",
   "execution_count": 13,
   "metadata": {
    "collapsed": false
   },
   "outputs": [
    {
     "ename": "NameError",
     "evalue": "name 'pd' is not defined",
     "output_type": "error",
     "traceback": [
      "\u001b[0;31m---------------------------------------------------------------------------\u001b[0m",
      "\u001b[0;31mNameError\u001b[0m                                 Traceback (most recent call last)",
      "\u001b[0;32m<ipython-input-13-6f6ba3a8d49d>\u001b[0m in \u001b[0;36m<module>\u001b[0;34m()\u001b[0m\n\u001b[0;32m----> 1\u001b[0;31m \u001b[0ma\u001b[0m \u001b[0;34m=\u001b[0m \u001b[0mpd\u001b[0m\u001b[0;34m.\u001b[0m\u001b[0mDataFrame\u001b[0m\u001b[0;34m(\u001b[0m\u001b[0mpoint\u001b[0m\u001b[0;34m)\u001b[0m\u001b[0;34m\u001b[0m\u001b[0m\n\u001b[0m",
      "\u001b[0;31mNameError\u001b[0m: name 'pd' is not defined"
     ]
    }
   ],
   "source": [
    "a = pd.DataFrame(point)\n"
   ]
  },
  {
   "cell_type": "markdown",
   "metadata": {},
   "source": [
    "#### 3. tabulate"
   ]
  },
  {
   "cell_type": "markdown",
   "metadata": {},
   "source": [
    " **语法:**\n",
    " \n",
    " tabulate(tabular_data, headers=(), tablefmt='simple', floatfmt='g', numalign='decimal', stralign='left', missingval='')\n",
    "\n",
    "* 具体可在ipython3中查看帮助文档, 即 help(tabulate)"
   ]
  },
  {
   "cell_type": "markdown",
   "metadata": {},
   "source": [
    "第一个必需的参数（“tabular_data”）可以是列表列表（或其他可迭代的迭代），命名元组列表，迭代字典，可迭代的字典，二维NumPy数组，NumPy记录阵列或熊猫数据帧。"
   ]
  },
  {
   "cell_type": "markdown",
   "metadata": {},
   "source": [
    "#### 4.使用zip()"
   ]
  },
  {
   "cell_type": "code",
   "execution_count": 8,
   "metadata": {
    "collapsed": true
   },
   "outputs": [],
   "source": [
    "amp = ['a1', 'a2', 'a3', 'a4']\n",
    "mass = ['m1', 'm2', 'm3', 'm4']\n",
    "period = ['p1', 'p2', 'p3', 'p4']\n",
    "ecc = ['e1', 'e2', 'e3', 'e4']\n",
    "planet = [1, 2, 3, 4]"
   ]
  },
  {
   "cell_type": "code",
   "execution_count": 9,
   "metadata": {
    "collapsed": true
   },
   "outputs": [],
   "source": [
    "titles = ['planet', 'amp', 'mass', 'period', 'ecc']"
   ]
  },
  {
   "cell_type": "code",
   "execution_count": 10,
   "metadata": {
    "collapsed": false
   },
   "outputs": [
    {
     "name": "stdout",
     "output_type": "stream",
     "text": [
      "planet|amp   |mass  |period|ecc   \n",
      "1     |a1    |m1    |p1    |e1    \n",
      "2     |a2    |m2    |p2    |e2    \n",
      "3     |a3    |m3    |p3    |e3    \n",
      "4     |a4    |m4    |p4    |e4    \n"
     ]
    }
   ],
   "source": [
    "print '{:<6}|{:<6}|{:<6}|{:<6}|{:<6}'.format(*titles)\n",
    "for item in zip(planet, amp, mass, period, ecc):\n",
    "    print '{:<6}|{:<6}|{:<6}|{:<6}|{:<6}'.format(*item)"
   ]
  },
  {
   "cell_type": "code",
   "execution_count": 11,
   "metadata": {
    "collapsed": false
   },
   "outputs": [
    {
     "name": "stdout",
     "output_type": "stream",
     "text": [
      "planet|amp   |mass  |period|ecc   \n",
      "1     |a1    |m1    |p1    |e1    \n",
      "2     |a2    |m2    |p2    |e2    \n",
      "3     |a3    |m3    |p3    |e3    \n",
      "4     |a4    |m4    |p4    |e4    \n"
     ]
    }
   ],
   "source": [
    "print '{:<6}|{:<6}|{:<6}|{:<6}|{:<6}'.format(*titles)\n",
    "for i, item in enumerate(zip(amp, mass, period, ecc)):\n",
    "    print '{:<6}|{:<6}|{:<6}|{:<6}|{:<6}'.format(i+1, *item)"
   ]
  },
  {
   "cell_type": "markdown",
   "metadata": {},
   "source": [
    "#### 5.例子"
   ]
  },
  {
   "cell_type": "markdown",
   "metadata": {},
   "source": [
    "* 例1"
   ]
  },
  {
   "cell_type": "code",
   "execution_count": null,
   "metadata": {
    "collapsed": true
   },
   "outputs": [],
   "source": [
    "import numpy as np\n",
    "import pandas as pd\n",
    "from tabulate import tabulate\n",
    "\n",
    "A = pd.DataFrame(np.random.randint(0,10,(3,6)), \n",
    "                 index= ['uno', 'dos', 'tres'])\n",
    "A.columns = ['A','B','C','D','E','F']\n",
    "A.index.names = ['type']\n",
    "A.columns.names= ['group']\n",
    "\n",
    "h = [A.index.names[0] +'/'+ A.columns.names[0]] + list(A.columns)\n",
    "print(tabulate(A, headers= h, tablefmt= 'grid'))\n"
   ]
  },
  {
   "cell_type": "markdown",
   "metadata": {},
   "source": [
    "* 例2"
   ]
  },
  {
   "cell_type": "code",
   "execution_count": null,
   "metadata": {
    "collapsed": true
   },
   "outputs": [],
   "source": [
    "import numpy as np\n",
    "import matplotlib.pyplot as plt\n",
    "\n",
    "from tabulate import tabulate\n",
    "data=np.random.rand(100, 1)\n",
    "\n",
    "print (tabulate(data))"
   ]
  },
  {
   "cell_type": "code",
   "execution_count": null,
   "metadata": {
    "collapsed": true
   },
   "outputs": [],
   "source": [
    "import numpy as np\n",
    "import matplotlib.pyplot as plt\n",
    "\n",
    "data = np.random.rand(100, 1)\n",
    "\n",
    "colLabels=(\"Fist Column\")\n",
    "nrows, ncols = len(data)+1, len(colLabels)\n",
    "hcell, wcell = 0.1, 0.1 # tweak as per your requirements\n",
    "hpad, wpad = 0.5, 0.5    \n",
    "fig=plt.figure(figsize=(ncols*wcell+wpad, nrows*hcell+hpad))\n",
    "ax = fig.add_subplot(111)\n",
    "ax.axis('off')\n",
    "\n",
    "the_table = ax.table(cellText=data,\n",
    "          colLabels=colLabels,\n",
    "          loc='center')\n",
    "\n",
    "plt.show()"
   ]
  }
 ],
 "metadata": {
  "kernelspec": {
   "display_name": "SageMath 7.5.1",
   "language": "",
   "name": "sagemath"
  },
  "language_info": {
   "codemirror_mode": {
    "name": "ipython",
    "version": 2
   },
   "file_extension": ".py",
   "mimetype": "text/x-python",
   "name": "python",
   "nbconvert_exporter": "python",
   "pygments_lexer": "ipython2",
   "version": "2.7.13"
  }
 },
 "nbformat": 4,
 "nbformat_minor": 0
}
