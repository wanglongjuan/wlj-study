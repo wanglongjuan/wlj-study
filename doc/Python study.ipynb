{
 "cells": [
  {
   "cell_type": "markdown",
   "metadata": {},
   "source": [
    "linspace()通过指定开始值，终值和元素个数来创建表示等差数列的以为数组，可以通过endpoint参数指定是否包含终值"
   ]
  },
  {
   "cell_type": "code",
   "execution_count": null,
   "metadata": {
    "collapsed": true
   },
   "outputs": [],
   "source": [
    "import numpy as np"
   ]
  },
  {
   "cell_type": "code",
   "execution_count": null,
   "metadata": {
    "collapsed": true
   },
   "outputs": [],
   "source": [
    "np.linspace(0,1,10)"
   ]
  },
  {
   "cell_type": "markdown",
   "metadata": {},
   "source": [
    "步长为1/9"
   ]
  },
  {
   "cell_type": "code",
   "execution_count": null,
   "metadata": {
    "collapsed": true
   },
   "outputs": [],
   "source": [
    "np.linspace(0,1,10,endpoint=False)"
   ]
  },
  {
   "cell_type": "markdown",
   "metadata": {},
   "source": [
    "步长为1/10"
   ]
  },
  {
   "cell_type": "code",
   "execution_count": null,
   "metadata": {
    "collapsed": true
   },
   "outputs": [],
   "source": [
    "np.random.seed(42)\n",
    "a = np.random.randint(0, 8, 10)#用randint()创建10个元素、值在0到9 范围之内的随机整数数组\n",
    "np.unique(a)#通过unique(a)可以找到数组a中所有的整数，并按照升序排列"
   ]
  },
  {
   "cell_type": "code",
   "execution_count": null,
   "metadata": {
    "collapsed": true
   },
   "outputs": [],
   "source": []
  },
  {
   "cell_type": "code",
   "execution_count": null,
   "metadata": {
    "collapsed": true
   },
   "outputs": [],
   "source": [
    "x, index = np.unique(a, return_index=True)"
   ]
  },
  {
   "cell_type": "code",
   "execution_count": null,
   "metadata": {
    "collapsed": true
   },
   "outputs": [],
   "source": [
    "x, rindex = np.unique(a, return_inverse=True)"
   ]
  },
  {
   "cell_type": "code",
   "execution_count": null,
   "metadata": {
    "collapsed": true
   },
   "outputs": [],
   "source": [
    "np.bincount(a)#对整数数组中各个元素所出现的次数进行统计，它要求数组中所有的元素都是非负的. 其返回数组中第 i个元素的值表示整数i出现的次数"
   ]
  },
  {
   "cell_type": "markdown",
   "metadata": {},
   "source": [
    "* zeros()将数组初始化为0, ones()将数组初始化为1,"
   ]
  },
  {
   "cell_type": "code",
   "execution_count": null,
   "metadata": {
    "collapsed": true
   },
   "outputs": [],
   "source": [
    "import numpy as np#创建长度为4,元素类型为整型的以为数组\n",
    "np.zeros(4,np.int)"
   ]
  },
  {
   "cell_type": "markdown",
   "metadata": {},
   "source": [
    "* full()将数组元素初始化为指定的值"
   ]
  },
  {
   "cell_type": "code",
   "execution_count": null,
   "metadata": {
    "collapsed": true
   },
   "outputs": [],
   "source": [
    "np.full(4,np.pi)"
   ]
  },
  {
   "cell_type": "code",
   "execution_count": null,
   "metadata": {
    "collapsed": true
   },
   "outputs": [],
   "source": [
    "def func(i):\n",
    "    return i % 4 +1\n",
    "np.fromfunction(func, (10,))"
   ]
  },
  {
   "cell_type": "markdown",
   "metadata": {},
   "source": [
    "* fromfunction()的第一个参数是计算每个数组元素的函数, 第二个参数指定数组的形状. 因为它支持多维数组, 所以第二个参数必须是一个序列."
   ]
  },
  {
   "cell_type": "code",
   "execution_count": null,
   "metadata": {
    "collapsed": true
   },
   "outputs": [],
   "source": [
    "def func2(i, j):\n",
    "    return (i + 1)*(j + 1)\n",
    "np.fromfunction(func2, (9,9))#输出数组a中的每个元素a[i,j]都等于func2(i,j)"
   ]
  },
  {
   "cell_type": "code",
   "execution_count": null,
   "metadata": {
    "collapsed": true
   },
   "outputs": [],
   "source": [
    "a = np.arange(10)\n",
    "a"
   ]
  },
  {
   "cell_type": "code",
   "execution_count": null,
   "metadata": {
    "collapsed": true
   },
   "outputs": [],
   "source": [
    "a[5]"
   ]
  },
  {
   "cell_type": "code",
   "execution_count": null,
   "metadata": {
    "collapsed": true
   },
   "outputs": [],
   "source": [
    "a[3:5]"
   ]
  },
  {
   "cell_type": "code",
   "execution_count": null,
   "metadata": {
    "collapsed": true
   },
   "outputs": [],
   "source": [
    "a[:-1]"
   ]
  },
  {
   "cell_type": "code",
   "execution_count": null,
   "metadata": {
    "collapsed": true
   },
   "outputs": [],
   "source": [
    "a[1:-1:2]#切片中第三个参数表示步长，2表示隔一个元素取一个元素"
   ]
  },
  {
   "cell_type": "code",
   "execution_count": null,
   "metadata": {
    "collapsed": true
   },
   "outputs": [],
   "source": [
    "a[5:1:-2]#步长为负数时,开始下标必须大于结束下标"
   ]
  },
  {
   "cell_type": "markdown",
   "metadata": {},
   "source": [
    "* 下标还可以修改元素的值"
   ]
  },
  {
   "cell_type": "markdown",
   "metadata": {},
   "source": [
    "#### 多维数组"
   ]
  },
  {
   "cell_type": "code",
   "execution_count": null,
   "metadata": {
    "collapsed": true
   },
   "outputs": [],
   "source": [
    "a = np.arange(0,60,10).reshape(-1,1)+np.arange(0,6)\n",
    "a"
   ]
  },
  {
   "cell_type": "markdown",
   "metadata": {
    "collapsed": true
   },
   "source": [
    "多维数组的存取和一维数组类似, 因为多维数组有多个轴, 所以它的下标需要多个值来表示.Numpy采用元组作为数组的下标, 元组中的每个元素和数组的每个周对应"
   ]
  },
  {
   "cell_type": "code",
   "execution_count": null,
   "metadata": {
    "collapsed": true
   },
   "outputs": [],
   "source": [
    "import numpy as np \n",
    "number = np.linspace(0.1, 10, 100)#1\n",
    "y = number.astype(np.float32)\n",
    "x2 = y*0.5\n",
    "i = y.view(np.int32)#2\n",
    "i[:] = 0x5f3759df - (i >> 1)#3\n",
    "y = y * (1.5 - x2 * y * y)#4\n",
    "np.max(np.abs(1 / np.sqrt(number) - y))#5"
   ]
  },
  {
   "cell_type": "markdown",
   "metadata": {},
   "source": [
    "1. 由于linspace()创建的数组类型为双精度浮点数, 因此这里首先通过astype()方法将其转换为单精度浮点数数组y;\n",
    "2. 通过view()的方法创建一个与y共享内存的32位整数数组i;\n",
    "3. \n",
    "4. 进行一次牛顿迭代计算\n",
    "5. 最后输出真实值和近似值之间的最大误差"
   ]
  },
  {
   "cell_type": "code",
   "execution_count": null,
   "metadata": {
    "collapsed": true
   },
   "outputs": [],
   "source": [
    "a = np.arange(0, 60, 10).reshape(-1, 1)\n",
    "b = np.arange(0,5)\n",
    "b.shape = 1,5#补齐为(1,5)\n",
    "b\n",
    "c = a + b\n",
    "c"
   ]
  },
  {
   "cell_type": "markdown",
   "metadata": {},
   "source": [
    "a与b的维数不同, 会进行广播，就需进行广播处理:需要让b的shape属性向a看齐,于是在b \n",
    "的shape属性前加1,补齐为(1,5);输出数组的各个轴的长度为输入数组各个轴的长度的\n",
    "最大值，可知输出数组的shape属性为(6,5)\n",
    "由于"
   ]
  },
  {
   "cell_type": "code",
   "execution_count": null,
   "metadata": {
    "collapsed": true
   },
   "outputs": [],
   "source": [
    "b = np.arange(0, 5).reshape(1,5)\n",
    "b = b.repeat(6, axis = 0)#repeat()是指沿着axis参数指定的轴复制数组中各个元素的值\n",
    "b"
   ]
  },
  {
   "cell_type": "code",
   "execution_count": null,
   "metadata": {
    "collapsed": true
   },
   "outputs": [],
   "source": []
  },
  {
   "cell_type": "markdown",
   "metadata": {},
   "source": [
    "12.6"
   ]
  },
  {
   "cell_type": "markdown",
   "metadata": {},
   "source": [
    "#### 多维数组的下标存取"
   ]
  },
  {
   "cell_type": "markdown",
   "metadata": {},
   "source": [
    "1. 下标对象"
   ]
  },
  {
   "cell_type": "markdown",
   "metadata": {},
   "source": [
    "首先, 多维数组的下标应该是一个长度和数组的维数相同的元组, 如果下标元组的长度比数组的维数大, 就会出错;如果小, 就会在下标元组的后面补\":\", 使得它的长度与数组维数相同."
   ]
  },
  {
   "cell_type": "code",
   "execution_count": null,
   "metadata": {
    "collapsed": true
   },
   "outputs": [],
   "source": [
    "import numpy as np\n",
    "a = np.arange(60).reshape(3,4,5)\n",
    "lidx = [[0], [1]]\n",
    "aidx = np.array(lidx)\n",
    "a[lidx]\n",
    "a[aidx]"
   ]
  },
  {
   "cell_type": "markdown",
   "metadata": {},
   "source": [
    "* 下标元组中的元素由切片和整数数组构成的情况. 假设整数数组有$N_t$ 个,而切片有$N_s$个.则$N_s+N_s$ 为数组的维数D.\n",
    "\n",
    "若值需要沿着指定轴通过整数数组获取元素的话, 可以使用np.take()函数."
   ]
  },
  {
   "cell_type": "code",
   "execution_count": null,
   "metadata": {
    "collapsed": true
   },
   "outputs": [],
   "source": [
    "i0 = np.array([[1, 2, 1],[0, 1, 0]])"
   ]
  },
  {
   "cell_type": "code",
   "execution_count": null,
   "metadata": {
    "collapsed": true
   },
   "outputs": [],
   "source": [
    "np.shape(i0)"
   ]
  },
  {
   "cell_type": "code",
   "execution_count": null,
   "metadata": {
    "collapsed": true
   },
   "outputs": [],
   "source": [
    "i1 = np.array([[[1], [0]]])"
   ]
  },
  {
   "cell_type": "code",
   "execution_count": null,
   "metadata": {
    "collapsed": true
   },
   "outputs": [],
   "source": [
    "np.shape(i1)"
   ]
  },
  {
   "cell_type": "code",
   "execution_count": null,
   "metadata": {
    "collapsed": true
   },
   "outputs": [],
   "source": [
    "i1"
   ]
  },
  {
   "cell_type": "code",
   "execution_count": null,
   "metadata": {
    "collapsed": true
   },
   "outputs": [],
   "source": [
    "i2 = np.array([[[2, 3, 2]]])"
   ]
  },
  {
   "cell_type": "code",
   "execution_count": null,
   "metadata": {
    "collapsed": true
   },
   "outputs": [],
   "source": [
    "np.shape(i2)"
   ]
  },
  {
   "cell_type": "code",
   "execution_count": null,
   "metadata": {
    "collapsed": true
   },
   "outputs": [],
   "source": [
    "i2"
   ]
  },
  {
   "cell_type": "code",
   "execution_count": null,
   "metadata": {
    "collapsed": true
   },
   "outputs": [],
   "source": [
    "b = a[i0, i1, i2]"
   ]
  },
  {
   "cell_type": "code",
   "execution_count": null,
   "metadata": {
    "collapsed": true
   },
   "outputs": [],
   "source": [
    "b"
   ]
  },
  {
   "cell_type": "code",
   "execution_count": null,
   "metadata": {
    "collapsed": true
   },
   "outputs": [],
   "source": [
    "np.shape(b)"
   ]
  },
  {
   "cell_type": "code",
   "execution_count": null,
   "metadata": {
    "collapsed": true
   },
   "outputs": [],
   "source": [
    "ind0, ind1, ind2 = np.broadcast_arrays(i0, i1, i2)"
   ]
  },
  {
   "cell_type": "markdown",
   "metadata": {
    "collapsed": true
   },
   "source": [
    "#### 函数库的知识点：\n"
   ]
  },
  {
   "cell_type": "markdown",
   "metadata": {},
   "source": [
    " 函数名|功能|函数名|功能\n",
    " ------|-------|-----|--------\n",
    " rand|0到1之间的随机数|randn|标准正态分布的随机数\n",
    " randint|指定范围内的随机整数|normal|正态分布\n",
    " uniform|均匀分布|possion|泊松分布\n",
    " permutation|随机排列|shuffle|随机打乱顺序\n",
    " choice|随机抽取样本|seed|设置随机数种子\n",
    " "
   ]
  },
  {
   "cell_type": "code",
   "execution_count": null,
   "metadata": {
    "collapsed": true
   },
   "outputs": [],
   "source": [
    "import numpy as np\n",
    "from numpy import random as nr\n",
    "np.set_printoptions(precision = 2)\n",
    "r1 = nr.rand(4,3)\n",
    "r2 = nr.randn(4,3)\n",
    "r3 = nr.randint(0,10,(4,3))"
   ]
  },
  {
   "cell_type": "markdown",
   "metadata": {},
   "source": [
    "* normal(): 正态分布, 前两个参数分别为期望值和标准差\n",
    "* uniform(): 均匀分布, 前两个参数分别为区间的起始值和终值\n",
    "* possion(): 泊松分布, 第一个参数指定 $\\lambda$ 系数, 它表示单位时间(或单位面积)内随机事件的平均发生率.由于泊松分布是一个离散分布, 因此它输出的数组是一个整数数组"
   ]
  },
  {
   "cell_type": "code",
   "execution_count": null,
   "metadata": {
    "collapsed": true
   },
   "outputs": [],
   "source": [
    "r1 = nr.normal(100, 10, (4, 3))\n",
    "r2 = nr.uniform(10, 20, (4, 3))\n",
    "#r3 = nr.possion(2.0, (4, 3))"
   ]
  },
  {
   "cell_type": "markdown",
   "metadata": {},
   "source": [
    "* permutation()可以用于产生乱序数组, 当参数为整数$n$时, 它返回$[0, n)$ 这 $n$ 个整数的随机排列;当参数为一个序列时, 它返回一个随机排列之后的序列"
   ]
  },
  {
   "cell_type": "code",
   "execution_count": null,
   "metadata": {
    "collapsed": true
   },
   "outputs": [],
   "source": [
    "a = np.array([1, 10, 20, 30, 40])\n",
    "print(nr.permutation(a))"
   ]
  },
  {
   "cell_type": "code",
   "execution_count": null,
   "metadata": {
    "collapsed": true
   },
   "outputs": [],
   "source": [
    "#print(nr.permutation(10))"
   ]
  },
  {
   "cell_type": "markdown",
   "metadata": {},
   "source": [
    "函数名|功能|函数名|功能\n",
    "------|-------|-----|--------\n",
    "sum | 求和 | mean |求期望\n",
    "average | 加权平均数 | std | 标准差\n",
    "var | 方差 | product | 连乘积"
   ]
  },
  {
   "cell_type": "markdown",
   "metadata": {},
   "source": [
    "在$sum()$求和当中为保持原数组维数不变可以使用keepdim=True"
   ]
  },
  {
   "cell_type": "markdown",
   "metadata": {},
   "source": [
    "std() 和 var() 分别计算数组的标准差和方差, 有 axis, out, dtype以及keepdims 等参数. \n",
    "\n",
    "方差：\n",
    "\n",
    "(1) 偏样本方差, 计算公式为：\n",
    "\n",
    "$$\n",
    "s_n^2 = \\frac{1}{n}\\sum_{i=1}^n(y_i - \\bar{y})^2\n",
    "$$\n",
    "\n",
    "(2) 无样本方差, 计算公式为：\n",
    "\n",
    "$$\n",
    "s_n^2 = \\frac{1}{n-1}\\sum_{i=1}^n(y_i - \\bar{y})^2\n",
    "$$\n",
    "\n",
    "当 ddof 参数为$0$ 时, 计算偏样本方差; 当 ddof 为 $1$ 时, 计算无偏样本方差, 默认值为 $0$."
   ]
  },
  {
   "cell_type": "markdown",
   "metadata": {
    "collapsed": true
   },
   "source": [
    "### 大小与排序"
   ]
  },
  {
   "cell_type": "markdown",
   "metadata": {},
   "source": [
    "函数名|功能|函数名|功能\n",
    "-----|-----|-----|------\n",
    "min|最小值|max|最大值\n",
    "minimum|二元最小值|maximum|二元最大值\n",
    "ptp|最大值与最小值的差|argmin|最小值的下标\n",
    "argmax|最大值的下标|median|中位数\n",
    "sort|数组排序|  |"
   ]
  },
  {
   "cell_type": "markdown",
   "metadata": {},
   "source": [
    "### 统计函数"
   ]
  },
  {
   "cell_type": "markdown",
   "metadata": {},
   "source": [
    "函数名|功能|函数名|功能\n",
    "-----|-----|-----|------\n",
    "unique|去除重复元素|bincount|对整数数组的元素计数\n",
    "histogram|一维直方图统计|digitze|离散化"
   ]
  },
  {
   "cell_type": "markdown",
   "metadata": {},
   "source": [
    "unique()返回参数数组中所有不同的值, 并且按照从小到大的顺序排列. 它有两个可选的参数：\n",
    "\n",
    "1. return_index:Trun 表示同时返回原数组用的下标数组\n",
    "\n",
    "2. return_inverse： Trun 表示返回重建原始数组用的下标数组"
   ]
  },
  {
   "cell_type": "markdown",
   "metadata": {},
   "source": [
    "bincount() 对整数数组中各个元素所出现的次数进行统计, 它要求数组中的所有元素都是非负的.其返回数组中第i 个元素的值表示整数i 出现的次数."
   ]
  },
  {
   "cell_type": "markdown",
   "metadata": {
    "collapsed": true
   },
   "source": [
    "### 操作多维数组"
   ]
  },
  {
   "cell_type": "markdown",
   "metadata": {},
   "source": [
    "函数名|功能|函数名|功能\n",
    "-----|-----|-----|------\n",
    "concatenate|连接多个数组|vstack|沿第0轴连接数组\n",
    "hstack|沿第1轴连接数组|column_stack|按列连接多个一维数组\n",
    "transpose|重新设置轴的顺序|swapaxes|交换两个轴的顺序"
   ]
  },
  {
   "cell_type": "markdown",
   "metadata": {},
   "source": [
    "* concatenate()是连接多个数组的最基本的函数, 它的第一个参数是包含多个数组的序列, 它将沿着 axis 参数指定的轴(默认为第 0 轴)"
   ]
  },
  {
   "cell_type": "markdown",
   "metadata": {},
   "source": [
    "* vstack()沿着第0轴连接数组, 当被连接的数组是长度为 N 的一维数组时, 将其形状改为(1,N)"
   ]
  },
  {
   "cell_type": "markdown",
   "metadata": {},
   "source": [
    "* hstack()沿着第1轴连接数组. 当所有数组都是一维的, 沿着第0轴连接数组, 因此结果数组仍然是一维的."
   ]
  },
  {
   "cell_type": "code",
   "execution_count": null,
   "metadata": {
    "collapsed": true
   },
   "outputs": [],
   "source": [
    "import numpy as np\n",
    "a = np.arange(3)\n",
    "b = np.arange(10, 13)\n",
    "v = np.vstack((a, b))\n",
    "h = np.hstack((a,b))"
   ]
  },
  {
   "cell_type": "markdown",
   "metadata": {},
   "source": [
    "### 多项式函数"
   ]
  },
  {
   "cell_type": "markdown",
   "metadata": {},
   "source": [
    "在 numpy 当中, 多项式系数可用一维数组表示"
   ]
  },
  {
   "cell_type": "markdown",
   "metadata": {},
   "source": [
    "可以用 np.poly1d()将系数转化为poly1d(一元多项式)对象, 此对象可以像函数一样调用, 它返回多项式函数的值\n"
   ]
  },
  {
   "cell_type": "markdown",
   "metadata": {},
   "source": [
    "多项式对象的 deriv()和integ()方法分别计算多项式函数的微分和积分eg:p.deriv();p.integ()"
   ]
  },
  {
   "cell_type": "raw",
   "metadata": {},
   "source": [
    "多项式函数的根可以使用roots()函数计算：np.root(p)"
   ]
  },
  {
   "cell_type": "markdown",
   "metadata": {},
   "source": [
    "polyfit()函数可以对一组数据使用多项式进行拟合, 找到与这组数据的误差平方和最小的多项式的系数"
   ]
  },
  {
   "cell_type": "markdown",
   "metadata": {},
   "source": [
    "### 各种乘积运算"
   ]
  },
  {
   "cell_type": "markdown",
   "metadata": {},
   "source": [
    "函数名|功能|函数名|功能\n",
    "-----|-----|-----|------\n",
    "dot|矩阵乘积|inner|内积\n",
    "outter|外积|tensordot|张量乘积"
   ]
  },
  {
   "cell_type": "markdown",
   "metadata": {},
   "source": [
    "矩阵乘积可以使用dot()计算. 对于二维数组, 它计算的是矩阵乘积;对于一维数组, 它计算的是内积. 当需要将一维数组当作矢量进行矩阵运算时, 现将一维数组转化为二维数组;"
   ]
  },
  {
   "cell_type": "code",
   "execution_count": null,
   "metadata": {
    "collapsed": true
   },
   "outputs": [],
   "source": [
    "import numpy as np\n",
    "\n",
    "a = np.array([1, 2, 3])"
   ]
  },
  {
   "cell_type": "code",
   "execution_count": null,
   "metadata": {
    "collapsed": true
   },
   "outputs": [],
   "source": [
    "a[:,None]"
   ]
  },
  {
   "cell_type": "markdown",
   "metadata": {},
   "source": [
    "对于多维数组, dot()的通用计算公式如下, 即结果数组中的每个元素都是：数组a的最后轴上的所有元素与数组b的倒数第二轴上的所有元素的乘积和：\n",
    "\n"
   ]
  },
  {
   "cell_type": "code",
   "execution_count": null,
   "metadata": {
    "collapsed": true
   },
   "outputs": [],
   "source": [
    "#dot(a, b)[i, j, k, m] = sum(a[i, j, :]*b[k,:,m])"
   ]
  },
  {
   "cell_type": "markdown",
   "metadata": {},
   "source": [
    "### 切比雪夫多项式"
   ]
  },
  {
   "cell_type": "markdown",
   "metadata": {},
   "source": [
    " 切比雪夫多项式是一个正交多项式序列 $T_i(x)$, 一个 $n$ 次多项式序列可以表示为多个切比雪夫多项式的加权和. 在 numpy 中, 使用Chebyshev 类表示由切比雪夫多项式组成的多项式 $p(x)$:\n",
    "\n",
    "$$\n",
    "p(x) = \\sum_{i = 0}^n c_iT_i(x)\n",
    "$$\n",
    "\n",
    "$T_i(x)$ 多项式可以通过 Chebyshev.basis(i)获得"
   ]
  },
  {
   "cell_type": "markdown",
   "metadata": {
    "collapsed": true
   },
   "source": [
    "### 非线性方程组的求解"
   ]
  },
  {
   "cell_type": "markdown",
   "metadata": {},
   "source": [
    "fsolve()可以对非线性方程组进行求解, 它的基本调用形式为 fsolve(func, x0), 其中 func 是计算误差的函数, 它的参数x是一个数组, 其值为方程组的一组可能解. func返回将x代入方程组之后得到的每个方程的误差, x0为未知数的一组初始值. 假设对下面的方程组进行求解：\n",
    "\n",
    "$$\n",
    "f1(u1,u2, u3)=0,\\quad f2(u1,u2, u3)=0,\\quad f3(u1,u2, u3)=0,\\quad\n",
    "$$\n",
    "\n",
    "那么func函数可定义如下：\n",
    "\n",
    "\n",
    "def func(x):\n",
    "\n",
    "u1,u2,u3 = x \n",
    "\n",
    "    return [f1(u1,u2, u3)=0,f2(u1,u2, u3)=0,f3(u1,u2, u3)=0]\n",
    "\n",
    "* 通过fprime参数将jacobe()传递给 fsolve()."
   ]
  },
  {
   "cell_type": "markdown",
   "metadata": {
    "collapsed": true
   },
   "source": [
    "#### python study"
   ]
  },
  {
   "cell_type": "markdown",
   "metadata": {
    "collapsed": true
   },
   "source": [
    "线性代数-linalg"
   ]
  },
  {
   "cell_type": "markdown",
   "metadata": {},
   "source": [
    "#### 解线性方程组"
   ]
  },
  {
   "cell_type": "markdown",
   "metadata": {},
   "source": [
    "numpy.linalg.solve(A, b) 和 scipy.linalg.solve(A, b) 可以用来解线性方程组 $Ax=b$, "
   ]
  },
  {
   "cell_type": "markdown",
   "metadata": {},
   "source": [
    "#### 特征值和特征向量"
   ]
  },
  {
   "cell_type": "markdown",
   "metadata": {},
   "source": [
    "通过 linalg.eig() 计算矩阵 A 的特征值evalues 和特征向量 evectors, 每一列是一个特征向量."
   ]
  },
  {
   "cell_type": "markdown",
   "metadata": {
    "collapsed": true
   },
   "source": [
    "#### 数值积分"
   ]
  },
  {
   "cell_type": "markdown",
   "metadata": {
    "collapsed": true
   },
   "source": [
    "#### 球的积分"
   ]
  },
  {
   "cell_type": "markdown",
   "metadata": {
    "collapsed": true
   },
   "source": [
    "**方法一** 采用最简单的数值积分算法, 把积分区间分成许多小矩形, 然后计算矩形的面积相加;\n",
    "\n",
    "**方法二** 用Numpy 的 trapz() 计算半圆上的各点所构成的多边形的面积, trapz()计算的是以 (x,y) 为顶点的折线与X轴所夹的面积;\n",
    "\n",
    "**方法三** 如果使用 integrate.quad() 进行数值积分,就能得到非常精确的结果:\n",
    "\n",
    "from scipy import integrate\n",
    "\n",
    "pi_half, err = integrate.quad(half_circle, -1, 1)"
   ]
  },
  {
   "cell_type": "markdown",
   "metadata": {
    "collapsed": true
   },
   "source": [
    "计算多重积分可以使用通过多次调用 quad() 实现, 为了调用方便, integrate模块提供了 dblquad()进行二重积分, 提供了tplquad()进行三重积分."
   ]
  },
  {
   "cell_type": "markdown",
   "metadata": {
    "collapsed": true
   },
   "source": [
    "dblquad(fun2, a, b, gfun, hfun): fun2d是需要进行二重积分的函数, 它有两个参数, 假设分别是 x 和 y . a和b 参数指定被积分函数第一个变量x 的积分区间, 而gfun 和 hfun参数指定第二个变量 y 的积分区间,gfun和hfun是函数, 它们通过x计算出变量y的积分区间,这样就可以对 X-Y 平面上的任何区间对 fun2d 进行积分."
   ]
  },
  {
   "cell_type": "markdown",
   "metadata": {
    "collapsed": true
   },
   "source": [
    "#### 解常微分方程组"
   ]
  },
  {
   "cell_type": "markdown",
   "metadata": {
    "collapsed": true
   },
   "source": [
    "integrate()模块还提供了对常微分方程组进行积分的函数odeint()."
   ]
  },
  {
   "cell_type": "markdown",
   "metadata": {
    "collapsed": true
   },
   "source": [
    "odeint()有许多参数, 我们一般用到四个参数, 其中是：\n",
    "\n",
    "1. fun:函数, 它是计算某个位置上的各个方向的速度的函数\n",
    "2. inti_status:未知初始值, 它是计算常微分方程所需要的各个变量的初始值;\n",
    "3. t:表示时间的数组, odeint()对此数组中的每个时间点进行求解, "
   ]
  },
  {
   "cell_type": "markdown",
   "metadata": {
    "collapsed": true
   },
   "source": [
    "###### ode 类：和odeint()相同, 也是需要一个计算各个状态的函数的导数"
   ]
  },
  {
   "cell_type": "markdown",
   "metadata": {
    "collapsed": true
   },
   "source": [
    "#### PID控制器的程序"
   ]
  },
  {
   "cell_type": "markdown",
   "metadata": {
    "collapsed": true
   },
   "source": [
    "PID 控制器由三个独立的部分构成:\n",
    "\n",
    "1. P:比例项, 输出和误差成正比;\n",
    "2. I:积分项, 输出和"
   ]
  },
  {
   "cell_type": "markdown",
   "metadata": {
    "collapsed": true
   },
   "source": [
    "### 列表\n",
    "\n",
    "支持在原地操作\n",
    "修改指定的元素, 对元素进行切片等"
   ]
  },
  {
   "cell_type": "markdown",
   "metadata": {
    "collapsed": true
   },
   "source": [
    "* list.sort() : 排序\n",
    "* list.reverse(): 逆序排列\n",
    "* list1 + list2 : 合并两个新的列表, 形成一个新的列表, 不会改变其它列表\n",
    "* $list*N$: 把列表重复 $N$ 次, 形成新的列表\n",
    "* in：成员关系判断符, 用法 obj in container\n",
    "* not in: 成员关系判断符, 用法 obj not in container"
   ]
  },
  {
   "cell_type": "markdown",
   "metadata": {
    "collapsed": true
   },
   "source": [
    "### 列表复制方式:\n"
   ]
  },
  {
   "cell_type": "code",
   "execution_count": null,
   "metadata": {
    "collapsed": true
   },
   "outputs": [],
   "source": [
    "l1 = [1, 2, 3, 4]\n",
    "l2 = l1\n",
    "print(l2)"
   ]
  },
  {
   "cell_type": "code",
   "execution_count": null,
   "metadata": {
    "collapsed": true
   },
   "outputs": [],
   "source": [
    "import copy\n",
    "l2 = copy.deepcopy(l1)\n",
    "print(l2)"
   ]
  },
  {
   "cell_type": "code",
   "execution_count": null,
   "metadata": {
    "collapsed": true
   },
   "outputs": [],
   "source": [
    "l2 = l1[:]\n",
    "print(l2)"
   ]
  },
  {
   "cell_type": "markdown",
   "metadata": {},
   "source": [
    "### 元组:\n"
   ]
  },
  {
   "cell_type": "markdown",
   "metadata": {},
   "source": [
    "* 表达符号是: **()**\n",
    "* 容器类型: 任意对象的有序集合, 通过索引访问其中的元素, 不可变对象, 长度固定.异构, 嵌套\n",
    "* ()\n",
    "* (1,)\n",
    "* (1, 2, ...)\n",
    "* not in;  in\n",
    "* 元组本身不可变, 但如果元组内嵌套了可变类型的元素, 那么此类元素的修改不会返回新元组\n",
    "例如:"
   ]
  },
  {
   "cell_type": "code",
   "execution_count": null,
   "metadata": {
    "collapsed": true
   },
   "outputs": [],
   "source": [
    "t1 = (1, 2, 3, 4)"
   ]
  },
  {
   "cell_type": "code",
   "execution_count": null,
   "metadata": {
    "collapsed": true
   },
   "outputs": [],
   "source": [
    "t1.index(3)"
   ]
  },
  {
   "cell_type": "markdown",
   "metadata": {},
   "source": [
    "常见的操作: \n",
    "* 定义空元组的方式: (), (1, ), (1, 2)\n",
    "* 定义元组可以省略小括号\n",
    "* tuple1 + tuple2 生成新的元组"
   ]
  },
  {
   "cell_type": "markdown",
   "metadata": {},
   "source": [
    "### matlab 和 python 比较"
   ]
  },
  {
   "cell_type": "markdown",
   "metadata": {},
   "source": [
    "**matlab :** \n",
    "* sort(a, \"   \"): 其中引号里面有:\n",
    "  + \"descend\" 表示降序\n",
    "  + \"ascend\" 表示升序\n",
    "  + \"~\" 返回排序矩阵\n",
    "* sum(X, 2):表示矩阵 X 横向相加\n",
    "* A = accumarray(subs, val, sz, fun, fillval)\n",
    "  + sub: 提供累计信息的指示向量\n",
    "  + val: 提供累计数值的向量\n",
    "  + sz: 控制输出向量A的size\n",
    "  + fun: 用于计算累计后向量的函数, 默认为@sum累加\n",
    "  + fillval: 填补A中的空缺项, 默认为0\n",
    "  "
   ]
  },
  {
   "cell_type": "markdown",
   "metadata": {},
   "source": [
    "**python:**\n",
    "* np.bincount(x, weight=w)与matlab中的accumarray相对应\n",
    "* np.repeat(a, 3): 是指把数组中的每个元素重复3次\n",
    "* np.tile(a, 3):是指把数组重复3次\n",
    "* a.flatten():按行展开\n",
    "  + a.flatten(order=\"F\") 按列展开"
   ]
  },
  {
   "cell_type": "code",
   "execution_count": null,
   "metadata": {
    "collapsed": true
   },
   "outputs": [],
   "source": [
    "import numpy as np\n",
    "a = np.array([0, 1, 1, 2, 3])\n",
    "w = np.array([0.3, 0.4, 0.5, 0.5, 0.5])"
   ]
  },
  {
   "cell_type": "code",
   "execution_count": null,
   "metadata": {
    "collapsed": true
   },
   "outputs": [],
   "source": [
    "np.bincount(a, w)\n",
    "a.flatten(order=\"F\")\n",
    "np.repeat(a, 3)\n",
    "np.tile(a, 3)"
   ]
  },
  {
   "cell_type": "markdown",
   "metadata": {
    "collapsed": true
   },
   "source": [
    "### 字典 dict"
   ]
  },
  {
   "cell_type": "markdown",
   "metadata": {},
   "source": [
    "字典在其它语言中又称为关联数组或散列表:\n",
    "* 通过键实现元素存取\n",
    "* 无序集合\n",
    "* 长度可变, 异构, 嵌套\n",
    "* {key1:value1, key2:,value2, ....}\n",
    "* {}:空字典\n",
    "* {\"x\":32, \"y\":[1,2,3]}"
   ]
  },
  {
   "cell_type": "code",
   "execution_count": null,
   "metadata": {
    "collapsed": true
   },
   "outputs": [],
   "source": [
    "d1 = {\"x\":1, \"y\":[1,2,3,4]}\n",
    "d1[\"x\"]\n",
    "d1[\"y\"]\n",
    "d1[\"y\"][1:]"
   ]
  },
  {
   "cell_type": "code",
   "execution_count": null,
   "metadata": {
    "collapsed": true
   },
   "outputs": [],
   "source": [
    "len(d1)"
   ]
  },
  {
   "cell_type": "code",
   "execution_count": null,
   "metadata": {
    "collapsed": true
   },
   "outputs": [],
   "source": [
    "d1[\"x\"] = 504\n",
    "print(d1)"
   ]
  },
  {
   "cell_type": "code",
   "execution_count": null,
   "metadata": {
    "collapsed": true
   },
   "outputs": [],
   "source": [
    "#清除d1中的所有元素\n",
    "d1.clear()\n",
    "print(d1)"
   ]
  },
  {
   "cell_type": "markdown",
   "metadata": {},
   "source": [
    "* 字典复制 \n",
    "  + $d2 = d1.copy()$：深复制\n",
    "  + $d3 = d1$ 表示引用同一对象, 原对象d1修改,则d3也修改 \n",
    "* dict.get() 取得对应键的值\n",
    "* dict.items(): 将字典转化为元组列表"
   ]
  },
  {
   "cell_type": "code",
   "execution_count": null,
   "metadata": {
    "collapsed": true
   },
   "outputs": [],
   "source": [
    "d1 = {\"x\":1, \"y\":[1,2,3,4]}\n",
    "d1.get(\"x\")\n",
    "d1.items()\n"
   ]
  },
  {
   "cell_type": "code",
   "execution_count": null,
   "metadata": {
    "collapsed": true
   },
   "outputs": [],
   "source": [
    "dict(zip(\"xyz\",'123'))"
   ]
  },
  {
   "cell_type": "markdown",
   "metadata": {},
   "source": [
    "zip 返回的是列表, 将列表快速构建字典"
   ]
  },
  {
   "cell_type": "markdown",
   "metadata": {},
   "source": [
    "### 类\n",
    "数据+方法\n",
    "实例: 通过数据不同进行, 有不同的实例"
   ]
  },
  {
   "cell_type": "markdown",
   "metadata": {},
   "source": [
    "### 点号运算符\n",
    "* 属性: 数据\n",
    "    返回一个数据, 显示需要print语句\n",
    "* 方法: 操作()\n",
    "    调用: 执行一段代码\n",
    "\n",
    "可调用对象: callavle\n",
    "函数也是可调用对象"
   ]
  },
  {
   "cell_type": "code",
   "execution_count": null,
   "metadata": {
    "collapsed": true
   },
   "outputs": [],
   "source": [
    "def printname():\n",
    "    print(\"hello\")\n",
    "    \n",
    "callable(printname)"
   ]
  },
  {
   "cell_type": "markdown",
   "metadata": {},
   "source": [
    "* 文档字符串:\",\"\"\" \"\"\",''' ''',\n",
    "* 列表:[]\n",
    "* 元组:()\n",
    "\n",
    "* 字典:{}\n",
    "* 数值: 直接给出自变量\n",
    "\n",
    "* 获取对象支持的属性和方法: dir()\n",
    "* 某方法的具体帮助使用: help(list.pop)\n",
    "* 获取可调用对象的文档字符: print(obj.\\_\\_doc\\_\\_)"
   ]
  },
  {
   "cell_type": "markdown",
   "metadata": {},
   "source": [
    "### 集合类型"
   ]
  },
  {
   "cell_type": "markdown",
   "metadata": {},
   "source": [
    "集合是一组**无序**排列的**可HASH**的值, \n",
    "* 支持集合关系测试, \n",
    "* 也支持成员关系测试: in , not in ;也支持迭代\n",
    "* 不支持: 索引, 切片, 元素获取\n",
    "* 没有特定格式, 只能通过工厂函数测试"
   ]
  },
  {
   "cell_type": "code",
   "execution_count": null,
   "metadata": {
    "collapsed": true
   },
   "outputs": [],
   "source": [
    "s1 = set([1,2,3])\n",
    "s2 = set([2,3,4])\n",
    "s1 | s2\n",
    "s1 & s2\n",
    "s1 - s2\n"
   ]
  },
  {
   "cell_type": "markdown",
   "metadata": {
    "collapsed": true
   },
   "source": [
    "容器类型及相关对象的特性"
   ]
  },
  {
   "cell_type": "markdown",
   "metadata": {},
   "source": [
    "* 列表, 元素, 字典自变量可在不使用续行符的情况下直接写在多个行上\n",
    "* 所有对象都有引用计数, 为对象分配的新名称, 或将其放进容器时, 将会导致对象引用计数增加, 当引用级数为0时, 就会由垃圾收集器回收子对象. **del**: 删除, 或这某次引用对象的修改超出作用域时, 那么对象的引用计数减少\n",
    "* 对于列表和字典都支持两种类型的复制操作, \n",
    "  + 浅复制\n",
    "  + 深复制:创建一个新对象, 并且递归的把原来对象的每个元素放人新对象中, 原对象修改不改变新对象的元素, 可用 cope 模块中的 deepcopy()实现\n",
    "* Python 中的所有对象都是\"第一类“的, 这意味着使用标识符命名的所有对象都具有相同状态, 于是能够命名所有对象都可以直接当数据进行数据处理\n",
    "* 序列表示索引为非负整数有序对象的集合, 包括字符串, 列表, 元组等. 所有序列都支持迭代\n",
    "* 所有序列都支持的操作和方法:\n",
    "  + s[i]\n",
    "  + s[i:j]\n",
    "  + s[i:k:stride]\n",
    "  + len(s)\n",
    "  + min(s)\n",
    "  + max(s)\n",
    "  + sum(s)\n",
    "  + all(s)\n",
    "  + any(s):所有项为True"
   ]
  },
  {
   "cell_type": "code",
   "execution_count": null,
   "metadata": {
    "collapsed": true
   },
   "outputs": [],
   "source": [
    "a = 3\n",
    "l1 = [1,2,3,4]\n",
    "import sys\n",
    "sys.getrefcount(a)\n",
    "\n",
    "name = \"black\"\n",
    "sys.getrefcount(name)\n",
    "\n",
    "hello = \"black\"\n",
    "del(hello)\n",
    "sys.getrefcount(name)"
   ]
  },
  {
   "cell_type": "markdown",
   "metadata": {
    "collapsed": true
   },
   "source": [
    "## python 的比较操作"
   ]
  },
  {
   "cell_type": "markdown",
   "metadata": {},
   "source": [
    "### 所有的python对象都支持比较操作\n",
    "* 可用于测试相等性, 相对大小\n",
    "* 如果是符合对象, python会检查其所有部分, 包括自动遍历各级嵌套对象, 直到可以得出最终结果"
   ]
  },
  {
   "cell_type": "markdown",
   "metadata": {},
   "source": [
    "### 测试操作符\n",
    "* \"==\"操作符测试值的相等性\n",
    "* \"is\"表示测试对象的一致性"
   ]
  },
  {
   "cell_type": "markdown",
   "metadata": {},
   "source": [
    "###  pyhton 中不同类型的比较方法\n",
    "* 数字: 通过相对大小进行比较\n",
    "* 字符串: 按照字典次序逐字符进行比较\n",
    "* 列表和元组: 自左至右比较各部分内容\n",
    "* 字典: 对排序之后的(键, 值)列表进行比较"
   ]
  },
  {
   "cell_type": "code",
   "execution_count": null,
   "metadata": {
    "collapsed": true
   },
   "outputs": [],
   "source": [
    "a = 4\n",
    "b = 5\n",
    "a == b\n",
    "c = \"abc\"\n",
    "a == c\n",
    "l1 = ['x', 'y', 1]\n",
    "a == l1\n",
    "l2 = ['x', 'y', 2]\n",
    "l1 == l2\n",
    "l3 = ['x', 'y', 2]\n",
    "l2 == l3\n",
    "id(l2)\n",
    "id(l3)"
   ]
  },
  {
   "cell_type": "markdown",
   "metadata": {},
   "source": [
    "### python 中真和假的含义\n",
    "* 非空数字为真, 否则为假\n",
    "* 非空对象为真, 否则为假\n",
    "* None始终为假\n",
    "比较和相等测试会递归地用于数据结构当中, 返回值为True 或 Fasle "
   ]
  },
  {
   "cell_type": "markdown",
   "metadata": {},
   "source": [
    "### 组合条件测试\n",
    "* X and Y : 与运算\n",
    "* X or Y : 或运算\n",
    "* not X :非运算"
   ]
  },
  {
   "cell_type": "code",
   "execution_count": null,
   "metadata": {
    "collapsed": true
   },
   "outputs": [],
   "source": [
    "x = 1\n",
    "y = 2\n",
    "if x>y :\n",
    "    print(\"the max number is %d.\" % x)\n",
    "else:\n",
    "    print(\"the max number is %d.\" % y)\n",
    "    "
   ]
  },
  {
   "cell_type": "code",
   "execution_count": null,
   "metadata": {
    "collapsed": true
   },
   "outputs": [],
   "source": [
    "name = \"jerry\"\n",
    "if name == \"tom\":\n",
    "    print(\"It is %s.\" %name)\n",
    "elif name == \"merry\":\n",
    "    print(\"It is %s.\" %name) \n",
    "else:\n",
    "    print(\"It is %s.\" %name)"
   ]
  },
  {
   "cell_type": "markdown",
   "metadata": {
    "collapsed": true
   },
   "source": [
    "### while循环\n",
    "* 用于编写通用迭代结构\n",
    "* 顶端测试为真即会执行循环体, 并重复多次测试直到为假后执行循环后的其它语句"
   ]
  },
  {
   "cell_type": "markdown",
   "metadata": {},
   "source": [
    "### for 循环\n",
    "* 一个通用的序列迭代器, 用于遍历任何有序的序列对象内的元素\n",
    "* 可用于字符串, 元组, 列表和其它内置可迭代对象, 以及通过类所创建的新对象"
   ]
  },
  {
   "cell_type": "markdown",
   "metadata": {},
   "source": [
    "### python 也提供了一些能够进行隐性迭代的工具\n",
    "* in成员关系测试\n",
    "* 列表解析\n",
    "* map, reduce和filter函数"
   ]
  },
  {
   "cell_type": "code",
   "execution_count": null,
   "metadata": {
    "collapsed": true
   },
   "outputs": [],
   "source": [
    "url = \"www.mageedu.com\"\n",
    "while url:\n",
    "    print(url)\n",
    "    url = url[:-1]\n",
    "else:\n",
    "    print(\"Game over\")"
   ]
  },
  {
   "cell_type": "code",
   "execution_count": null,
   "metadata": {
    "collapsed": true
   },
   "outputs": [],
   "source": [
    "url = \"www.mageedu.com\"\n",
    "x = 0\n",
    "while url:\n",
    "    print(url)\n",
    "    url = url[1:]\n",
    "    x += 1\n",
    "    if x>7:\n",
    "        break\n",
    "else:\n",
    "    print(\"Game over\")"
   ]
  },
  {
   "cell_type": "markdown",
   "metadata": {},
   "source": [
    "* break 跳出最内层的循环\n",
    "* continue 跳到所处最近层循环的开始处\n",
    "* pass 展位语句\n",
    "* else 代码块: 循环正常终止才会执行, 如果循环终止是有break跳出导致的, 则else不会执行 "
   ]
  },
  {
   "cell_type": "markdown",
   "metadata": {},
   "source": []
  }
 ],
 "metadata": {
  "kernelspec": {
   "display_name": "Python 3",
   "language": "python",
   "name": "python3"
  },
  "language_info": {
   "codemirror_mode": {
    "name": "ipython",
    "version": 3
   },
   "file_extension": ".py",
   "mimetype": "text/x-python",
   "name": "python",
   "nbconvert_exporter": "python",
   "pygments_lexer": "ipython3",
   "version": "3.5.1+"
  }
 },
 "nbformat": 4,
 "nbformat_minor": 1
}
