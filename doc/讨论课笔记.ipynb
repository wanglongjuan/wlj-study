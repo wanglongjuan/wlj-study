{
 "cells": [
  {
   "cell_type": "markdown",
   "metadata": {},
   "source": [
    "# 学习笔记"
   ]
  },
  {
   "cell_type": "markdown",
   "metadata": {},
   "source": [
    "1.整理学习仓库，分门别类：\n",
    "\n",
    "  建立4个文件夹：“build”,“src”,“test”,“doc”.其中“buld”存放生成的程序中转文件;\"test\"存放程序文件;“doc”存放学习笔记\n",
    "    \n",
    "2.在“test”中存放程序文件，并且建立“CMakeLists.txt”\n",
    "       输入如下：\n",
    "            add_executable(sqr sqr.cpp)\n",
    "            add_executable(tixing tixing.cpp)\n",
    "            add_executable(sum sum.cpp)"
   ]
  },
  {
   "cell_type": "markdown",
   "metadata": {},
   "source": [
    "3.在wlj-study建立：“CMakeLists.txt”\n",
    "\n",
    "输入如下：\n",
    "\n",
    "cmake_minimum_required(VERSION 2.8)\n",
    "\n",
    "\n",
    "project(wlj-study)\n",
    "\n",
    "#Add subdiretory\n",
    "\n",
    "add_subdirectory(src)\n",
    "\n",
    "add_subdirectory(test)"
   ]
  },
  {
   "cell_type": "markdown",
   "metadata": {},
   "source": [
    "4.src建立：CMakeLists.txt\n",
    "输入如下：\n",
    "file(GLOB_RECURSE HEADER ./*.h)\n",
    "install(FILES ${HEADER} DESTINATION src)"
   ]
  },
  {
   "cell_type": "markdown",
   "metadata": {},
   "source": []
  }
 ],
 "metadata": {
  "kernelspec": {
   "display_name": "SageMath 7.3",
   "language": "",
   "name": "sagemath"
  },
  "language_info": {
   "codemirror_mode": {
    "name": "ipython",
    "version": 2
   },
   "file_extension": ".py",
   "mimetype": "text/x-python",
   "name": "python",
   "nbconvert_exporter": "python",
   "pygments_lexer": "ipython2",
   "version": "2.7.10"
  }
 },
 "nbformat": 4,
 "nbformat_minor": 0
}
