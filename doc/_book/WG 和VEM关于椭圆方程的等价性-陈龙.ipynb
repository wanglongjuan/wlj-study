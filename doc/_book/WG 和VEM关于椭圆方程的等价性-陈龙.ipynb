{
 "cells": [
  {
   "cell_type": "markdown",
   "metadata": {},
   "source": [
    "1.简介"
   ]
  },
  {
   "cell_type": "markdown",
   "metadata": {},
   "source": [
    "  近年来许多数值方法用于多边形和多面体网格.在这篇论文中, 我们将要讨论WG和VEM的联系.我们显示, 对于扩散方程, 修改之后的WG可以来源于VEM 的新版本获悉和等价的新版本VEM可以来源于WG. 用相同的方法, 我们可以显示原始的WG等价于非协调的VEM[4]. 等价性使我们能够将VEM的收敛理论以及计算机实现应用于WG, 反之亦然."
   ]
  },
  {
   "cell_type": "code",
   "execution_count": null,
   "metadata": {
    "collapsed": true
   },
   "outputs": [],
   "source": []
  }
 ],
 "metadata": {
  "kernelspec": {
   "display_name": "SageMath 7.3",
   "language": "",
   "name": "sagemath"
  },
  "language_info": {
   "codemirror_mode": {
    "name": "ipython",
    "version": 2
   },
   "file_extension": ".py",
   "mimetype": "text/x-python",
   "name": "python",
   "nbconvert_exporter": "python",
   "pygments_lexer": "ipython2",
   "version": "2.7.10"
  }
 },
 "nbformat": 4,
 "nbformat_minor": 0
}
