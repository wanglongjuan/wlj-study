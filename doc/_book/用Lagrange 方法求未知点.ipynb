{
 "cells": [
  {
   "cell_type": "markdown",
   "metadata": {},
   "source": [
    "#### 已知已知点用Lagrange插值方法来求未知点\n"
   ]
  },
  {
   "cell_type": "markdown",
   "metadata": {},
   "source": [
    "##### Lagrange 插值公式："
   ]
  },
  {
   "cell_type": "markdown",
   "metadata": {},
   "source": [
    "$$\n",
    "L_n (x) = \\sum_{k=0}^n y_k \\frac{\\omega_{n+1}(x)}{(x-x_k)\\omega'_{n+1}(x_k)}\n",
    "$$\n",
    "其中\n",
    "$$\n",
    "\\begin{align}\n",
    "\\omega_{n+1}(x) &=(x-x_0)(x-x_1)\\cdots(x-x_n)\\\\\n",
    "\\omega'_{n+1}(x_k) &=(x_k-x_0)\\cdots(x_k-x_{k-1})(x_k-x_{k+1})\\cdots(x_k-x_n)\n",
    "\\end{align}\n",
    "$$\n",
    "\n",
    "当 $n=1$ 时，线性插值公式为:\n",
    "\n",
    "$$\n",
    "L_1(x)=y_k\\frac{x_{k+1}-x}{x_{k+1}-x_k}+y_{k+1}\\frac{x-x_k}{x_{k+1}-x_k}\n",
    "$$\n",
    "\n",
    "当 $n=2$ 时，线性插值公式为:\n",
    "\n",
    "$$\n",
    "L_2(x)=y_{k-1}\\frac{(x-x_k)(x-x_{k+1})}{(x_{k-1}-x_k)(x_{k-1}-x_{k+1})}+y_k\\frac{(x-x_{k-1})(x-x_{k+1})}{(x_{k}-x_{k-1})(x_{k}-x_{k+1})}+y_{k+1}\\frac{(x-x_k)(x-x_{k_1})}{(x_{k+1}-x_{k-1})(x_{k+1}-x_{k})}\n",
    "$$"
   ]
  },
  {
   "cell_type": "markdown",
   "metadata": {},
   "source": [
    "**例1**\n",
    "已知 $(u_n,f_n),(u_{n+1},f_{n+1})$,在四阶二步法: \n",
    "$$\n",
    "u_{n+2}=u_n + \\frac{h}{3}(f_{n+2}+4f_{n+1}+f_n)\n",
    "$$\n",
    "中用已知点代替未知点$(u_{n+2},f_{n+2})$\n",
    "\n",
    "**解 :** 用 lagrange插值方法,$f_{n+2}$可以表示为：\n",
    "$$\n",
    "\\begin{align}\n",
    "f_{n+2} &=f_n\\frac{u_{n+1}-u_{n+2}}{u_{n+1}-u_n}+f_{n+1}\\frac{u_{n+2}-u_n}{u_{n+1}-u_n}\\\\\n",
    "&= f_n\\frac{h}{-h}+f_{n+1}\\frac{2h}{h}\\\\\n",
    "&=-f_n+2f_{n+1}\n",
    "\\end{align}\n",
    "$$\n",
    "其中\n",
    "$$\n",
    "u_{n+2}=u_{n+1}+hu'_{n+1}+r(h)\\\\\n",
    "u_n=u_{n+1}-hu'_{n+1}+r(-h)\\\\\n",
    "\\frac{u_{n+1}-u_{n+2}}{u_{n+1}-u_n}=\\frac{-hu'_{n+1}-r(h)}{hu'_{n+1}+r(h)}=-1\\\\\n",
    "$$\n",
    "同理可得\n",
    "$$\n",
    "\\frac{u_{n+2}-u_n}{u_{n+1}-u_n}=\\frac{2hu'_n+r(2h)}{hu'_n+r(h)}=2\n",
    "$$\n",
    "\n",
    "则\n",
    "$$\n",
    "\\begin{align}\n",
    "u_{n+2} &=u_n + \\frac{h}{3}(f_{n+2}+4f_{n+1}+f_n)\\\\\n",
    "&=u_n + \\frac{h}{3}(-f_n+2f_{n+1}+4f_{n+1}+f_n)\\\\\n",
    "&=u_n+\\frac{h}{3}(-f_n+5f_{n+1})\n",
    "\\end{align}\n",
    "$$\n",
    "\n",
    "* 已知有很多点时,求未知点时,也可以用 Lagrange插值公式来求解.比如,已知(u_{n-i},f_{n-i})i=0,1,\\cdots,k,在线性多步法中\n",
    "$$\n",
    "u_{n+1}=u_n+\\sum_{j=0}^k \\beta_j f_{n+1-j}\n",
    "$$\n",
    "对于 $(u_{n+1},f_{n+1})$ 可以用已知点$(u_{n-i},f_{n-i})i=0,1,\\cdots,k$,来代替求解未知."
   ]
  },
  {
   "cell_type": "markdown",
   "metadata": {},
   "source": []
  }
 ],
 "metadata": {
  "kernelspec": {
   "display_name": "SageMath 7.3",
   "language": "",
   "name": "sagemath"
  },
  "language_info": {
   "codemirror_mode": {
    "name": "ipython",
    "version": 2
   },
   "file_extension": ".py",
   "mimetype": "text/x-python",
   "name": "python",
   "nbconvert_exporter": "python",
   "pygments_lexer": "ipython2",
   "version": "2.7.10"
  }
 },
 "nbformat": 4,
 "nbformat_minor": 0
}
