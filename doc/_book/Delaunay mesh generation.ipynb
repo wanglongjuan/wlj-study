{
 "cells": [
  {
   "cell_type": "markdown",
   "metadata": {},
   "source": [
    "Definition 2.2 (Delaunay). In the context of a finite point set S , a triangle is Delaunay if its vertices are in S and its open circumdisk is empty—i.e. contains no point in S . Note that any number of points in S can lie on a Delaunay triangle’s circumcircle. An edge is Delaunay if its vertices are in S and it has at least one empty open circumdisk. A Delaunay triangulation of S , denoted Del S , is a triangulation of S in which every triangle is Delaunay, as illustrated in Figure 2.2."
   ]
  },
  {
   "cell_type": "markdown",
   "metadata": {},
   "source": [
    "(Delaunay):在一个有限点集 $s$, 如果三角形的顶点在S中并且其开放的圆盘是空的, 比如在S中不包含点,则三角形是Delaunay. 注意，S中的任意数目的点可以位于Delaunay三角形的外接圆上。边缘是Delaunay，如果它的顶点在S中，并且它至少有一个空的打开的圆盘。S的Delaunay三角剖分，表示为Del S，是S的三角剖分，其中每个三角形是Delaunay，如图2.2所示"
   ]
  },
  {
   "cell_type": "markdown",
   "metadata": {},
   "source": [
    "【定义】三角剖分[1]  ：假设V是二维实数域上的有限点集，边e是由点集中的点作为端点构成的封闭线段, E为e的集合。那么该点集V的一个三角剖分T=(V,E)是一个平面图G，该平面图满足条件：\n",
    "\n",
    "1. 除了端点，平面图中的边不包含点集中的任何点。\n",
    "\n",
    "2. 没有相交边。\n",
    "\n",
    "3. 平面图中所有的面都是三角面，且所有三角面的合集是散点集V的凸包。"
   ]
  },
  {
   "cell_type": "markdown",
   "metadata": {},
   "source": [
    "【定义】Delaunay边：假设E中的一条边e（两个端点为a,b），e\n",
    "若满足下列条件，则称之为Delaunay边：存在一个圆经过a,b两点，圆内(注意是圆内，圆上最多三点共圆)不含点集V中任何其他的点，这一特性又称空圆特性。\n"
   ]
  },
  {
   "cell_type": "markdown",
   "metadata": {},
   "source": [
    "【定义】Delaunay三角剖分：如果点集V的一个三角剖分T只包含Delaunay边，那么该三角剖分称为Delaunay三角剖分。"
   ]
  },
  {
   "cell_type": "markdown",
   "metadata": {},
   "source": [
    "要满足Delaunay三角剖分的定义，必须符合两个重要的准则：\n",
    "\n",
    "1. 空圆特性：Delaunay三角网是唯一的（任意四点不能共圆），在Delaunay三角形网中任一三角形的外接圆范围内不会有其它点存在。\n",
    "\n",
    "2. 最大化最小角特性：在散点集可能形成的三角剖分中，Delaunay三角剖分所形成的三角形的最小角最大。从这个意义上讲，Delaunay三角网是“最接近于规则化的“的三角网。具体的说是指在两个相邻的三角形构成凸四边形的对角线，在相互交换后，六个内角的最小角不再增大。"
   ]
  },
  {
   "cell_type": "markdown",
   "metadata": {},
   "source": [
    "以下是Delaunay剖分所具备的优异特性：\n",
    "1. 最接近：以最近的三点形成三角形，且各线段(三角形的边)皆不相交。\n",
    "2. 唯一性：不论从区域何处开始构建，最终都将得到一致的结果。\n",
    "3. 最优性：任意两个相邻三角形形成的凸四边形的对角线如果可以互换的话，那么两个三角形六个内角中最小的角度不会变大。\n",
    "4. 最规则：如果将三角网中的每个三角形的最小角进行升序排列，则Delaunay三角网的排列得到的数值最大。\n",
    "5. 区域性：新增、删除、移动某一个顶点时只会影响临近的三角形。\n",
    "6. 具有凸多边形的外壳：三角网最外层的边界形成一个凸多边形的外壳。"
   ]
  },
  {
   "cell_type": "code",
   "execution_count": null,
   "metadata": {
    "collapsed": true
   },
   "outputs": [],
   "source": []
  }
 ],
 "metadata": {
  "kernelspec": {
   "display_name": "SageMath 7.3",
   "language": "",
   "name": "sagemath"
  },
  "language_info": {
   "codemirror_mode": {
    "name": "ipython",
    "version": 2
   },
   "file_extension": ".py",
   "mimetype": "text/x-python",
   "name": "python",
   "nbconvert_exporter": "python",
   "pygments_lexer": "ipython2",
   "version": "2.7.10"
  }
 },
 "nbformat": 4,
 "nbformat_minor": 0
}
