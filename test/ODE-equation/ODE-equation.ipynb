{
 "cells": [
  {
   "cell_type": "markdown",
   "metadata": {},
   "source": [
    "对于初值问题\n",
    "$$\n",
    "\\begin{cases}\n",
    "u' = 4tu^{\\frac{1}{2}}\\\\\n",
    "u(0)=1 \\quad\\quad 0\\leq t \\leq 2\n",
    "\\end{cases}\n",
    "$$\n",
    "\n",
    "的精确解为 $u(t) = (1+t^2)^2$\n"
   ]
  },
  {
   "cell_type": "markdown",
   "metadata": {},
   "source": [
    "## 隐式Euler"
   ]
  },
  {
   "cell_type": "markdown",
   "metadata": {},
   "source": [
    "1. 网格剖分：对 $0\\leq t \\leq 2$ 进行剖分，步长为 $h = 0.05$\n",
    "1. 对差分格式进行离散：\n",
    "\n",
    "$$\n",
    "u_{n+1} = u_n+hf(t_{n+1},u_{n+1}),\\qquad n =0,1,2,\\dots,N-1\n",
    "$$\n",
    "\n",
    "这里 $f(t_{n+1},u_{n+1}) = u_{n+1}'$  \n",
    "\n",
    "对方程 $u' = f$ 两边同时积分有：\n",
    "$$\n",
    "u_{n+1} - u_{n} = \\int_{t_n}^{t_{n+1}}f\\mathrm{d}t\n",
    "$$\n",
    "则用右矩形公式有\n",
    "$$\n",
    "u_{n+1} = u_{n} + (t_{n+1}-t_{n})f(t_{n+1},u_{n+1})\\\\\n",
    "u_{n+1} = u_n+hf(t_{n+1},u_{n+1})\n",
    "$$"
   ]
  },
  {
   "cell_type": "code",
   "execution_count": null,
   "metadata": {
    "collapsed": true
   },
   "outputs": [],
   "source": []
  }
 ],
 "metadata": {
  "kernelspec": {
   "display_name": "SageMath 7.3",
   "language": "",
   "name": "sagemath"
  },
  "language_info": {
   "codemirror_mode": {
    "name": "ipython",
    "version": 2
   },
   "file_extension": ".py",
   "mimetype": "text/x-python",
   "name": "python",
   "nbconvert_exporter": "python",
   "pygments_lexer": "ipython2",
   "version": "2.7.10"
  }
 },
 "nbformat": 4,
 "nbformat_minor": 0
}
